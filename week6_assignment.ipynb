{
  "nbformat": 4,
  "nbformat_minor": 0,
  "metadata": {
    "colab": {
      "provenance": [],
      "authorship_tag": "ABX9TyPtlbdrV13xtJrWSPBKQWUj",
      "include_colab_link": true
    },
    "kernelspec": {
      "name": "python3",
      "display_name": "Python 3"
    },
    "language_info": {
      "name": "python"
    }
  },
  "cells": [
    {
      "cell_type": "markdown",
      "metadata": {
        "id": "view-in-github",
        "colab_type": "text"
      },
      "source": [
        "<a href=\"https://colab.research.google.com/github/bidishaaiml/COE_week6/blob/main/week6_assignment.ipynb\" target=\"_parent\"><img src=\"https://colab.research.google.com/assets/colab-badge.svg\" alt=\"Open In Colab\"/></a>"
      ]
    },
    {
      "cell_type": "markdown",
      "source": [
        "### **Performing data preprocessing and feature engineering on the diabetes dataset that was visualized during the Week 3 assignment.**"
      ],
      "metadata": {
        "id": "nLyxMQ0vG9nd"
      }
    },
    {
      "cell_type": "code",
      "execution_count": 1848,
      "metadata": {
        "id": "jtMF9DklB8J9"
      },
      "outputs": [],
      "source": [
        "# importing the necessary libraries\n",
        "import pandas as pd\n",
        "import matplotlib.pyplot as plt\n",
        "import seaborn as sns"
      ]
    },
    {
      "cell_type": "code",
      "source": [
        "# Loading the dataset\n",
        "df = pd.read_csv('/content/diabetes_012_health_indicators_BRFSS2015.csv')"
      ],
      "metadata": {
        "id": "QcQU7iksDD9H"
      },
      "execution_count": 1849,
      "outputs": []
    },
    {
      "cell_type": "code",
      "source": [
        "# to display all 22 columns simultaneously\n",
        "pd.set_option('display.max_columns', 22)\n",
        "df.head(5)"
      ],
      "metadata": {
        "colab": {
          "base_uri": "https://localhost:8080/",
          "height": 226
        },
        "id": "Ve3pWPIeDIK5",
        "outputId": "243ed5af-dde4-4f7a-d0dd-07f79ffc9e0b"
      },
      "execution_count": 1850,
      "outputs": [
        {
          "output_type": "execute_result",
          "data": {
            "text/plain": [
              "   Diabetes_012  HighBP  HighChol  CholCheck   BMI  Smoker  Stroke  \\\n",
              "0           0.0     1.0       1.0        1.0  40.0     1.0     0.0   \n",
              "1           0.0     0.0       0.0        0.0  25.0     1.0     0.0   \n",
              "2           0.0     1.0       1.0        1.0  28.0     0.0     0.0   \n",
              "3           0.0     1.0       0.0        1.0  27.0     0.0     0.0   \n",
              "4           0.0     1.0       1.0        1.0  24.0     0.0     0.0   \n",
              "\n",
              "   HeartDiseaseorAttack  PhysActivity  Fruits  Veggies  HvyAlcoholConsump  \\\n",
              "0                   0.0           0.0     0.0      1.0                0.0   \n",
              "1                   0.0           1.0     0.0      0.0                0.0   \n",
              "2                   0.0           0.0     1.0      0.0                0.0   \n",
              "3                   0.0           1.0     1.0      1.0                0.0   \n",
              "4                   0.0           1.0     1.0      1.0                0.0   \n",
              "\n",
              "   AnyHealthcare  NoDocbcCost  GenHlth  MentHlth  PhysHlth  DiffWalk  Sex  \\\n",
              "0            1.0          0.0      5.0      18.0      15.0       1.0  0.0   \n",
              "1            0.0          1.0      3.0       0.0       0.0       0.0  0.0   \n",
              "2            1.0          1.0      5.0      30.0      30.0       1.0  0.0   \n",
              "3            1.0          0.0      2.0       0.0       0.0       0.0  0.0   \n",
              "4            1.0          0.0      2.0       3.0       0.0       0.0  0.0   \n",
              "\n",
              "    Age  Education  Income  \n",
              "0   9.0        4.0     3.0  \n",
              "1   7.0        6.0     1.0  \n",
              "2   9.0        4.0     8.0  \n",
              "3  11.0        3.0     6.0  \n",
              "4  11.0        5.0     4.0  "
            ],
            "text/html": [
              "\n",
              "  <div id=\"df-262a7949-273b-400e-8c83-b82d929cdb9f\" class=\"colab-df-container\">\n",
              "    <div>\n",
              "<style scoped>\n",
              "    .dataframe tbody tr th:only-of-type {\n",
              "        vertical-align: middle;\n",
              "    }\n",
              "\n",
              "    .dataframe tbody tr th {\n",
              "        vertical-align: top;\n",
              "    }\n",
              "\n",
              "    .dataframe thead th {\n",
              "        text-align: right;\n",
              "    }\n",
              "</style>\n",
              "<table border=\"1\" class=\"dataframe\">\n",
              "  <thead>\n",
              "    <tr style=\"text-align: right;\">\n",
              "      <th></th>\n",
              "      <th>Diabetes_012</th>\n",
              "      <th>HighBP</th>\n",
              "      <th>HighChol</th>\n",
              "      <th>CholCheck</th>\n",
              "      <th>BMI</th>\n",
              "      <th>Smoker</th>\n",
              "      <th>Stroke</th>\n",
              "      <th>HeartDiseaseorAttack</th>\n",
              "      <th>PhysActivity</th>\n",
              "      <th>Fruits</th>\n",
              "      <th>Veggies</th>\n",
              "      <th>HvyAlcoholConsump</th>\n",
              "      <th>AnyHealthcare</th>\n",
              "      <th>NoDocbcCost</th>\n",
              "      <th>GenHlth</th>\n",
              "      <th>MentHlth</th>\n",
              "      <th>PhysHlth</th>\n",
              "      <th>DiffWalk</th>\n",
              "      <th>Sex</th>\n",
              "      <th>Age</th>\n",
              "      <th>Education</th>\n",
              "      <th>Income</th>\n",
              "    </tr>\n",
              "  </thead>\n",
              "  <tbody>\n",
              "    <tr>\n",
              "      <th>0</th>\n",
              "      <td>0.0</td>\n",
              "      <td>1.0</td>\n",
              "      <td>1.0</td>\n",
              "      <td>1.0</td>\n",
              "      <td>40.0</td>\n",
              "      <td>1.0</td>\n",
              "      <td>0.0</td>\n",
              "      <td>0.0</td>\n",
              "      <td>0.0</td>\n",
              "      <td>0.0</td>\n",
              "      <td>1.0</td>\n",
              "      <td>0.0</td>\n",
              "      <td>1.0</td>\n",
              "      <td>0.0</td>\n",
              "      <td>5.0</td>\n",
              "      <td>18.0</td>\n",
              "      <td>15.0</td>\n",
              "      <td>1.0</td>\n",
              "      <td>0.0</td>\n",
              "      <td>9.0</td>\n",
              "      <td>4.0</td>\n",
              "      <td>3.0</td>\n",
              "    </tr>\n",
              "    <tr>\n",
              "      <th>1</th>\n",
              "      <td>0.0</td>\n",
              "      <td>0.0</td>\n",
              "      <td>0.0</td>\n",
              "      <td>0.0</td>\n",
              "      <td>25.0</td>\n",
              "      <td>1.0</td>\n",
              "      <td>0.0</td>\n",
              "      <td>0.0</td>\n",
              "      <td>1.0</td>\n",
              "      <td>0.0</td>\n",
              "      <td>0.0</td>\n",
              "      <td>0.0</td>\n",
              "      <td>0.0</td>\n",
              "      <td>1.0</td>\n",
              "      <td>3.0</td>\n",
              "      <td>0.0</td>\n",
              "      <td>0.0</td>\n",
              "      <td>0.0</td>\n",
              "      <td>0.0</td>\n",
              "      <td>7.0</td>\n",
              "      <td>6.0</td>\n",
              "      <td>1.0</td>\n",
              "    </tr>\n",
              "    <tr>\n",
              "      <th>2</th>\n",
              "      <td>0.0</td>\n",
              "      <td>1.0</td>\n",
              "      <td>1.0</td>\n",
              "      <td>1.0</td>\n",
              "      <td>28.0</td>\n",
              "      <td>0.0</td>\n",
              "      <td>0.0</td>\n",
              "      <td>0.0</td>\n",
              "      <td>0.0</td>\n",
              "      <td>1.0</td>\n",
              "      <td>0.0</td>\n",
              "      <td>0.0</td>\n",
              "      <td>1.0</td>\n",
              "      <td>1.0</td>\n",
              "      <td>5.0</td>\n",
              "      <td>30.0</td>\n",
              "      <td>30.0</td>\n",
              "      <td>1.0</td>\n",
              "      <td>0.0</td>\n",
              "      <td>9.0</td>\n",
              "      <td>4.0</td>\n",
              "      <td>8.0</td>\n",
              "    </tr>\n",
              "    <tr>\n",
              "      <th>3</th>\n",
              "      <td>0.0</td>\n",
              "      <td>1.0</td>\n",
              "      <td>0.0</td>\n",
              "      <td>1.0</td>\n",
              "      <td>27.0</td>\n",
              "      <td>0.0</td>\n",
              "      <td>0.0</td>\n",
              "      <td>0.0</td>\n",
              "      <td>1.0</td>\n",
              "      <td>1.0</td>\n",
              "      <td>1.0</td>\n",
              "      <td>0.0</td>\n",
              "      <td>1.0</td>\n",
              "      <td>0.0</td>\n",
              "      <td>2.0</td>\n",
              "      <td>0.0</td>\n",
              "      <td>0.0</td>\n",
              "      <td>0.0</td>\n",
              "      <td>0.0</td>\n",
              "      <td>11.0</td>\n",
              "      <td>3.0</td>\n",
              "      <td>6.0</td>\n",
              "    </tr>\n",
              "    <tr>\n",
              "      <th>4</th>\n",
              "      <td>0.0</td>\n",
              "      <td>1.0</td>\n",
              "      <td>1.0</td>\n",
              "      <td>1.0</td>\n",
              "      <td>24.0</td>\n",
              "      <td>0.0</td>\n",
              "      <td>0.0</td>\n",
              "      <td>0.0</td>\n",
              "      <td>1.0</td>\n",
              "      <td>1.0</td>\n",
              "      <td>1.0</td>\n",
              "      <td>0.0</td>\n",
              "      <td>1.0</td>\n",
              "      <td>0.0</td>\n",
              "      <td>2.0</td>\n",
              "      <td>3.0</td>\n",
              "      <td>0.0</td>\n",
              "      <td>0.0</td>\n",
              "      <td>0.0</td>\n",
              "      <td>11.0</td>\n",
              "      <td>5.0</td>\n",
              "      <td>4.0</td>\n",
              "    </tr>\n",
              "  </tbody>\n",
              "</table>\n",
              "</div>\n",
              "    <div class=\"colab-df-buttons\">\n",
              "\n",
              "  <div class=\"colab-df-container\">\n",
              "    <button class=\"colab-df-convert\" onclick=\"convertToInteractive('df-262a7949-273b-400e-8c83-b82d929cdb9f')\"\n",
              "            title=\"Convert this dataframe to an interactive table.\"\n",
              "            style=\"display:none;\">\n",
              "\n",
              "  <svg xmlns=\"http://www.w3.org/2000/svg\" height=\"24px\" viewBox=\"0 -960 960 960\">\n",
              "    <path d=\"M120-120v-720h720v720H120Zm60-500h600v-160H180v160Zm220 220h160v-160H400v160Zm0 220h160v-160H400v160ZM180-400h160v-160H180v160Zm440 0h160v-160H620v160ZM180-180h160v-160H180v160Zm440 0h160v-160H620v160Z\"/>\n",
              "  </svg>\n",
              "    </button>\n",
              "\n",
              "  <style>\n",
              "    .colab-df-container {\n",
              "      display:flex;\n",
              "      gap: 12px;\n",
              "    }\n",
              "\n",
              "    .colab-df-convert {\n",
              "      background-color: #E8F0FE;\n",
              "      border: none;\n",
              "      border-radius: 50%;\n",
              "      cursor: pointer;\n",
              "      display: none;\n",
              "      fill: #1967D2;\n",
              "      height: 32px;\n",
              "      padding: 0 0 0 0;\n",
              "      width: 32px;\n",
              "    }\n",
              "\n",
              "    .colab-df-convert:hover {\n",
              "      background-color: #E2EBFA;\n",
              "      box-shadow: 0px 1px 2px rgba(60, 64, 67, 0.3), 0px 1px 3px 1px rgba(60, 64, 67, 0.15);\n",
              "      fill: #174EA6;\n",
              "    }\n",
              "\n",
              "    .colab-df-buttons div {\n",
              "      margin-bottom: 4px;\n",
              "    }\n",
              "\n",
              "    [theme=dark] .colab-df-convert {\n",
              "      background-color: #3B4455;\n",
              "      fill: #D2E3FC;\n",
              "    }\n",
              "\n",
              "    [theme=dark] .colab-df-convert:hover {\n",
              "      background-color: #434B5C;\n",
              "      box-shadow: 0px 1px 3px 1px rgba(0, 0, 0, 0.15);\n",
              "      filter: drop-shadow(0px 1px 2px rgba(0, 0, 0, 0.3));\n",
              "      fill: #FFFFFF;\n",
              "    }\n",
              "  </style>\n",
              "\n",
              "    <script>\n",
              "      const buttonEl =\n",
              "        document.querySelector('#df-262a7949-273b-400e-8c83-b82d929cdb9f button.colab-df-convert');\n",
              "      buttonEl.style.display =\n",
              "        google.colab.kernel.accessAllowed ? 'block' : 'none';\n",
              "\n",
              "      async function convertToInteractive(key) {\n",
              "        const element = document.querySelector('#df-262a7949-273b-400e-8c83-b82d929cdb9f');\n",
              "        const dataTable =\n",
              "          await google.colab.kernel.invokeFunction('convertToInteractive',\n",
              "                                                    [key], {});\n",
              "        if (!dataTable) return;\n",
              "\n",
              "        const docLinkHtml = 'Like what you see? Visit the ' +\n",
              "          '<a target=\"_blank\" href=https://colab.research.google.com/notebooks/data_table.ipynb>data table notebook</a>'\n",
              "          + ' to learn more about interactive tables.';\n",
              "        element.innerHTML = '';\n",
              "        dataTable['output_type'] = 'display_data';\n",
              "        await google.colab.output.renderOutput(dataTable, element);\n",
              "        const docLink = document.createElement('div');\n",
              "        docLink.innerHTML = docLinkHtml;\n",
              "        element.appendChild(docLink);\n",
              "      }\n",
              "    </script>\n",
              "  </div>\n",
              "\n",
              "\n",
              "<div id=\"df-7d8e884f-1aa0-456c-83a2-a8c6139b56f1\">\n",
              "  <button class=\"colab-df-quickchart\" onclick=\"quickchart('df-7d8e884f-1aa0-456c-83a2-a8c6139b56f1')\"\n",
              "            title=\"Suggest charts\"\n",
              "            style=\"display:none;\">\n",
              "\n",
              "<svg xmlns=\"http://www.w3.org/2000/svg\" height=\"24px\"viewBox=\"0 0 24 24\"\n",
              "     width=\"24px\">\n",
              "    <g>\n",
              "        <path d=\"M19 3H5c-1.1 0-2 .9-2 2v14c0 1.1.9 2 2 2h14c1.1 0 2-.9 2-2V5c0-1.1-.9-2-2-2zM9 17H7v-7h2v7zm4 0h-2V7h2v10zm4 0h-2v-4h2v4z\"/>\n",
              "    </g>\n",
              "</svg>\n",
              "  </button>\n",
              "\n",
              "<style>\n",
              "  .colab-df-quickchart {\n",
              "      --bg-color: #E8F0FE;\n",
              "      --fill-color: #1967D2;\n",
              "      --hover-bg-color: #E2EBFA;\n",
              "      --hover-fill-color: #174EA6;\n",
              "      --disabled-fill-color: #AAA;\n",
              "      --disabled-bg-color: #DDD;\n",
              "  }\n",
              "\n",
              "  [theme=dark] .colab-df-quickchart {\n",
              "      --bg-color: #3B4455;\n",
              "      --fill-color: #D2E3FC;\n",
              "      --hover-bg-color: #434B5C;\n",
              "      --hover-fill-color: #FFFFFF;\n",
              "      --disabled-bg-color: #3B4455;\n",
              "      --disabled-fill-color: #666;\n",
              "  }\n",
              "\n",
              "  .colab-df-quickchart {\n",
              "    background-color: var(--bg-color);\n",
              "    border: none;\n",
              "    border-radius: 50%;\n",
              "    cursor: pointer;\n",
              "    display: none;\n",
              "    fill: var(--fill-color);\n",
              "    height: 32px;\n",
              "    padding: 0;\n",
              "    width: 32px;\n",
              "  }\n",
              "\n",
              "  .colab-df-quickchart:hover {\n",
              "    background-color: var(--hover-bg-color);\n",
              "    box-shadow: 0 1px 2px rgba(60, 64, 67, 0.3), 0 1px 3px 1px rgba(60, 64, 67, 0.15);\n",
              "    fill: var(--button-hover-fill-color);\n",
              "  }\n",
              "\n",
              "  .colab-df-quickchart-complete:disabled,\n",
              "  .colab-df-quickchart-complete:disabled:hover {\n",
              "    background-color: var(--disabled-bg-color);\n",
              "    fill: var(--disabled-fill-color);\n",
              "    box-shadow: none;\n",
              "  }\n",
              "\n",
              "  .colab-df-spinner {\n",
              "    border: 2px solid var(--fill-color);\n",
              "    border-color: transparent;\n",
              "    border-bottom-color: var(--fill-color);\n",
              "    animation:\n",
              "      spin 1s steps(1) infinite;\n",
              "  }\n",
              "\n",
              "  @keyframes spin {\n",
              "    0% {\n",
              "      border-color: transparent;\n",
              "      border-bottom-color: var(--fill-color);\n",
              "      border-left-color: var(--fill-color);\n",
              "    }\n",
              "    20% {\n",
              "      border-color: transparent;\n",
              "      border-left-color: var(--fill-color);\n",
              "      border-top-color: var(--fill-color);\n",
              "    }\n",
              "    30% {\n",
              "      border-color: transparent;\n",
              "      border-left-color: var(--fill-color);\n",
              "      border-top-color: var(--fill-color);\n",
              "      border-right-color: var(--fill-color);\n",
              "    }\n",
              "    40% {\n",
              "      border-color: transparent;\n",
              "      border-right-color: var(--fill-color);\n",
              "      border-top-color: var(--fill-color);\n",
              "    }\n",
              "    60% {\n",
              "      border-color: transparent;\n",
              "      border-right-color: var(--fill-color);\n",
              "    }\n",
              "    80% {\n",
              "      border-color: transparent;\n",
              "      border-right-color: var(--fill-color);\n",
              "      border-bottom-color: var(--fill-color);\n",
              "    }\n",
              "    90% {\n",
              "      border-color: transparent;\n",
              "      border-bottom-color: var(--fill-color);\n",
              "    }\n",
              "  }\n",
              "</style>\n",
              "\n",
              "  <script>\n",
              "    async function quickchart(key) {\n",
              "      const quickchartButtonEl =\n",
              "        document.querySelector('#' + key + ' button');\n",
              "      quickchartButtonEl.disabled = true;  // To prevent multiple clicks.\n",
              "      quickchartButtonEl.classList.add('colab-df-spinner');\n",
              "      try {\n",
              "        const charts = await google.colab.kernel.invokeFunction(\n",
              "            'suggestCharts', [key], {});\n",
              "      } catch (error) {\n",
              "        console.error('Error during call to suggestCharts:', error);\n",
              "      }\n",
              "      quickchartButtonEl.classList.remove('colab-df-spinner');\n",
              "      quickchartButtonEl.classList.add('colab-df-quickchart-complete');\n",
              "    }\n",
              "    (() => {\n",
              "      let quickchartButtonEl =\n",
              "        document.querySelector('#df-7d8e884f-1aa0-456c-83a2-a8c6139b56f1 button');\n",
              "      quickchartButtonEl.style.display =\n",
              "        google.colab.kernel.accessAllowed ? 'block' : 'none';\n",
              "    })();\n",
              "  </script>\n",
              "</div>\n",
              "\n",
              "    </div>\n",
              "  </div>\n"
            ],
            "application/vnd.google.colaboratory.intrinsic+json": {
              "type": "dataframe",
              "variable_name": "df"
            }
          },
          "metadata": {},
          "execution_count": 1850
        }
      ]
    },
    {
      "cell_type": "code",
      "source": [
        "df.shape\n",
        "# The dataset consists of 253,680 rows and 22 columns."
      ],
      "metadata": {
        "colab": {
          "base_uri": "https://localhost:8080/"
        },
        "id": "iRPW4Ew9DMDb",
        "outputId": "a46e291a-7a88-40d4-884f-a98af9c3012a"
      },
      "execution_count": 1851,
      "outputs": [
        {
          "output_type": "execute_result",
          "data": {
            "text/plain": [
              "(253680, 22)"
            ]
          },
          "metadata": {},
          "execution_count": 1851
        }
      ]
    },
    {
      "cell_type": "code",
      "source": [
        "df.info()\n",
        "# Display information about the data types present in the dataset"
      ],
      "metadata": {
        "colab": {
          "base_uri": "https://localhost:8080/"
        },
        "id": "YpKa9aJVDPf8",
        "outputId": "939368f9-6a97-4826-8c36-1f3f1786ecfb"
      },
      "execution_count": 1852,
      "outputs": [
        {
          "output_type": "stream",
          "name": "stdout",
          "text": [
            "<class 'pandas.core.frame.DataFrame'>\n",
            "RangeIndex: 253680 entries, 0 to 253679\n",
            "Data columns (total 22 columns):\n",
            " #   Column                Non-Null Count   Dtype  \n",
            "---  ------                --------------   -----  \n",
            " 0   Diabetes_012          253680 non-null  float64\n",
            " 1   HighBP                253680 non-null  float64\n",
            " 2   HighChol              253680 non-null  float64\n",
            " 3   CholCheck             253680 non-null  float64\n",
            " 4   BMI                   253680 non-null  float64\n",
            " 5   Smoker                253680 non-null  float64\n",
            " 6   Stroke                253680 non-null  float64\n",
            " 7   HeartDiseaseorAttack  253680 non-null  float64\n",
            " 8   PhysActivity          253680 non-null  float64\n",
            " 9   Fruits                253680 non-null  float64\n",
            " 10  Veggies               253680 non-null  float64\n",
            " 11  HvyAlcoholConsump     253680 non-null  float64\n",
            " 12  AnyHealthcare         253680 non-null  float64\n",
            " 13  NoDocbcCost           253680 non-null  float64\n",
            " 14  GenHlth               253680 non-null  float64\n",
            " 15  MentHlth              253680 non-null  float64\n",
            " 16  PhysHlth              253680 non-null  float64\n",
            " 17  DiffWalk              253680 non-null  float64\n",
            " 18  Sex                   253680 non-null  float64\n",
            " 19  Age                   253680 non-null  float64\n",
            " 20  Education             253680 non-null  float64\n",
            " 21  Income                253680 non-null  float64\n",
            "dtypes: float64(22)\n",
            "memory usage: 42.6 MB\n"
          ]
        }
      ]
    },
    {
      "cell_type": "code",
      "source": [
        "df.describe()\n",
        "# Display descriptive statistics for the dataset"
      ],
      "metadata": {
        "colab": {
          "base_uri": "https://localhost:8080/",
          "height": 320
        },
        "id": "CLmicmVaDQ-O",
        "outputId": "c14a5e0a-e4b1-49dd-c680-1f3b7f89fd41"
      },
      "execution_count": 1853,
      "outputs": [
        {
          "output_type": "execute_result",
          "data": {
            "text/plain": [
              "        Diabetes_012         HighBP       HighChol      CholCheck  \\\n",
              "count  253680.000000  253680.000000  253680.000000  253680.000000   \n",
              "mean        0.296921       0.429001       0.424121       0.962670   \n",
              "std         0.698160       0.494934       0.494210       0.189571   \n",
              "min         0.000000       0.000000       0.000000       0.000000   \n",
              "25%         0.000000       0.000000       0.000000       1.000000   \n",
              "50%         0.000000       0.000000       0.000000       1.000000   \n",
              "75%         0.000000       1.000000       1.000000       1.000000   \n",
              "max         2.000000       1.000000       1.000000       1.000000   \n",
              "\n",
              "                 BMI         Smoker         Stroke  HeartDiseaseorAttack  \\\n",
              "count  253680.000000  253680.000000  253680.000000         253680.000000   \n",
              "mean       28.382364       0.443169       0.040571              0.094186   \n",
              "std         6.608694       0.496761       0.197294              0.292087   \n",
              "min        12.000000       0.000000       0.000000              0.000000   \n",
              "25%        24.000000       0.000000       0.000000              0.000000   \n",
              "50%        27.000000       0.000000       0.000000              0.000000   \n",
              "75%        31.000000       1.000000       0.000000              0.000000   \n",
              "max        98.000000       1.000000       1.000000              1.000000   \n",
              "\n",
              "        PhysActivity         Fruits        Veggies  HvyAlcoholConsump  \\\n",
              "count  253680.000000  253680.000000  253680.000000      253680.000000   \n",
              "mean        0.756544       0.634256       0.811420           0.056197   \n",
              "std         0.429169       0.481639       0.391175           0.230302   \n",
              "min         0.000000       0.000000       0.000000           0.000000   \n",
              "25%         1.000000       0.000000       1.000000           0.000000   \n",
              "50%         1.000000       1.000000       1.000000           0.000000   \n",
              "75%         1.000000       1.000000       1.000000           0.000000   \n",
              "max         1.000000       1.000000       1.000000           1.000000   \n",
              "\n",
              "       AnyHealthcare    NoDocbcCost        GenHlth       MentHlth  \\\n",
              "count  253680.000000  253680.000000  253680.000000  253680.000000   \n",
              "mean        0.951053       0.084177       2.511392       3.184772   \n",
              "std         0.215759       0.277654       1.068477       7.412847   \n",
              "min         0.000000       0.000000       1.000000       0.000000   \n",
              "25%         1.000000       0.000000       2.000000       0.000000   \n",
              "50%         1.000000       0.000000       2.000000       0.000000   \n",
              "75%         1.000000       0.000000       3.000000       2.000000   \n",
              "max         1.000000       1.000000       5.000000      30.000000   \n",
              "\n",
              "            PhysHlth       DiffWalk            Sex            Age  \\\n",
              "count  253680.000000  253680.000000  253680.000000  253680.000000   \n",
              "mean        4.242081       0.168224       0.440342       8.032119   \n",
              "std         8.717951       0.374066       0.496429       3.054220   \n",
              "min         0.000000       0.000000       0.000000       1.000000   \n",
              "25%         0.000000       0.000000       0.000000       6.000000   \n",
              "50%         0.000000       0.000000       0.000000       8.000000   \n",
              "75%         3.000000       0.000000       1.000000      10.000000   \n",
              "max        30.000000       1.000000       1.000000      13.000000   \n",
              "\n",
              "           Education         Income  \n",
              "count  253680.000000  253680.000000  \n",
              "mean        5.050434       6.053875  \n",
              "std         0.985774       2.071148  \n",
              "min         1.000000       1.000000  \n",
              "25%         4.000000       5.000000  \n",
              "50%         5.000000       7.000000  \n",
              "75%         6.000000       8.000000  \n",
              "max         6.000000       8.000000  "
            ],
            "text/html": [
              "\n",
              "  <div id=\"df-3614d76e-8902-49af-a0a4-7ea69d4020c6\" class=\"colab-df-container\">\n",
              "    <div>\n",
              "<style scoped>\n",
              "    .dataframe tbody tr th:only-of-type {\n",
              "        vertical-align: middle;\n",
              "    }\n",
              "\n",
              "    .dataframe tbody tr th {\n",
              "        vertical-align: top;\n",
              "    }\n",
              "\n",
              "    .dataframe thead th {\n",
              "        text-align: right;\n",
              "    }\n",
              "</style>\n",
              "<table border=\"1\" class=\"dataframe\">\n",
              "  <thead>\n",
              "    <tr style=\"text-align: right;\">\n",
              "      <th></th>\n",
              "      <th>Diabetes_012</th>\n",
              "      <th>HighBP</th>\n",
              "      <th>HighChol</th>\n",
              "      <th>CholCheck</th>\n",
              "      <th>BMI</th>\n",
              "      <th>Smoker</th>\n",
              "      <th>Stroke</th>\n",
              "      <th>HeartDiseaseorAttack</th>\n",
              "      <th>PhysActivity</th>\n",
              "      <th>Fruits</th>\n",
              "      <th>Veggies</th>\n",
              "      <th>HvyAlcoholConsump</th>\n",
              "      <th>AnyHealthcare</th>\n",
              "      <th>NoDocbcCost</th>\n",
              "      <th>GenHlth</th>\n",
              "      <th>MentHlth</th>\n",
              "      <th>PhysHlth</th>\n",
              "      <th>DiffWalk</th>\n",
              "      <th>Sex</th>\n",
              "      <th>Age</th>\n",
              "      <th>Education</th>\n",
              "      <th>Income</th>\n",
              "    </tr>\n",
              "  </thead>\n",
              "  <tbody>\n",
              "    <tr>\n",
              "      <th>count</th>\n",
              "      <td>253680.000000</td>\n",
              "      <td>253680.000000</td>\n",
              "      <td>253680.000000</td>\n",
              "      <td>253680.000000</td>\n",
              "      <td>253680.000000</td>\n",
              "      <td>253680.000000</td>\n",
              "      <td>253680.000000</td>\n",
              "      <td>253680.000000</td>\n",
              "      <td>253680.000000</td>\n",
              "      <td>253680.000000</td>\n",
              "      <td>253680.000000</td>\n",
              "      <td>253680.000000</td>\n",
              "      <td>253680.000000</td>\n",
              "      <td>253680.000000</td>\n",
              "      <td>253680.000000</td>\n",
              "      <td>253680.000000</td>\n",
              "      <td>253680.000000</td>\n",
              "      <td>253680.000000</td>\n",
              "      <td>253680.000000</td>\n",
              "      <td>253680.000000</td>\n",
              "      <td>253680.000000</td>\n",
              "      <td>253680.000000</td>\n",
              "    </tr>\n",
              "    <tr>\n",
              "      <th>mean</th>\n",
              "      <td>0.296921</td>\n",
              "      <td>0.429001</td>\n",
              "      <td>0.424121</td>\n",
              "      <td>0.962670</td>\n",
              "      <td>28.382364</td>\n",
              "      <td>0.443169</td>\n",
              "      <td>0.040571</td>\n",
              "      <td>0.094186</td>\n",
              "      <td>0.756544</td>\n",
              "      <td>0.634256</td>\n",
              "      <td>0.811420</td>\n",
              "      <td>0.056197</td>\n",
              "      <td>0.951053</td>\n",
              "      <td>0.084177</td>\n",
              "      <td>2.511392</td>\n",
              "      <td>3.184772</td>\n",
              "      <td>4.242081</td>\n",
              "      <td>0.168224</td>\n",
              "      <td>0.440342</td>\n",
              "      <td>8.032119</td>\n",
              "      <td>5.050434</td>\n",
              "      <td>6.053875</td>\n",
              "    </tr>\n",
              "    <tr>\n",
              "      <th>std</th>\n",
              "      <td>0.698160</td>\n",
              "      <td>0.494934</td>\n",
              "      <td>0.494210</td>\n",
              "      <td>0.189571</td>\n",
              "      <td>6.608694</td>\n",
              "      <td>0.496761</td>\n",
              "      <td>0.197294</td>\n",
              "      <td>0.292087</td>\n",
              "      <td>0.429169</td>\n",
              "      <td>0.481639</td>\n",
              "      <td>0.391175</td>\n",
              "      <td>0.230302</td>\n",
              "      <td>0.215759</td>\n",
              "      <td>0.277654</td>\n",
              "      <td>1.068477</td>\n",
              "      <td>7.412847</td>\n",
              "      <td>8.717951</td>\n",
              "      <td>0.374066</td>\n",
              "      <td>0.496429</td>\n",
              "      <td>3.054220</td>\n",
              "      <td>0.985774</td>\n",
              "      <td>2.071148</td>\n",
              "    </tr>\n",
              "    <tr>\n",
              "      <th>min</th>\n",
              "      <td>0.000000</td>\n",
              "      <td>0.000000</td>\n",
              "      <td>0.000000</td>\n",
              "      <td>0.000000</td>\n",
              "      <td>12.000000</td>\n",
              "      <td>0.000000</td>\n",
              "      <td>0.000000</td>\n",
              "      <td>0.000000</td>\n",
              "      <td>0.000000</td>\n",
              "      <td>0.000000</td>\n",
              "      <td>0.000000</td>\n",
              "      <td>0.000000</td>\n",
              "      <td>0.000000</td>\n",
              "      <td>0.000000</td>\n",
              "      <td>1.000000</td>\n",
              "      <td>0.000000</td>\n",
              "      <td>0.000000</td>\n",
              "      <td>0.000000</td>\n",
              "      <td>0.000000</td>\n",
              "      <td>1.000000</td>\n",
              "      <td>1.000000</td>\n",
              "      <td>1.000000</td>\n",
              "    </tr>\n",
              "    <tr>\n",
              "      <th>25%</th>\n",
              "      <td>0.000000</td>\n",
              "      <td>0.000000</td>\n",
              "      <td>0.000000</td>\n",
              "      <td>1.000000</td>\n",
              "      <td>24.000000</td>\n",
              "      <td>0.000000</td>\n",
              "      <td>0.000000</td>\n",
              "      <td>0.000000</td>\n",
              "      <td>1.000000</td>\n",
              "      <td>0.000000</td>\n",
              "      <td>1.000000</td>\n",
              "      <td>0.000000</td>\n",
              "      <td>1.000000</td>\n",
              "      <td>0.000000</td>\n",
              "      <td>2.000000</td>\n",
              "      <td>0.000000</td>\n",
              "      <td>0.000000</td>\n",
              "      <td>0.000000</td>\n",
              "      <td>0.000000</td>\n",
              "      <td>6.000000</td>\n",
              "      <td>4.000000</td>\n",
              "      <td>5.000000</td>\n",
              "    </tr>\n",
              "    <tr>\n",
              "      <th>50%</th>\n",
              "      <td>0.000000</td>\n",
              "      <td>0.000000</td>\n",
              "      <td>0.000000</td>\n",
              "      <td>1.000000</td>\n",
              "      <td>27.000000</td>\n",
              "      <td>0.000000</td>\n",
              "      <td>0.000000</td>\n",
              "      <td>0.000000</td>\n",
              "      <td>1.000000</td>\n",
              "      <td>1.000000</td>\n",
              "      <td>1.000000</td>\n",
              "      <td>0.000000</td>\n",
              "      <td>1.000000</td>\n",
              "      <td>0.000000</td>\n",
              "      <td>2.000000</td>\n",
              "      <td>0.000000</td>\n",
              "      <td>0.000000</td>\n",
              "      <td>0.000000</td>\n",
              "      <td>0.000000</td>\n",
              "      <td>8.000000</td>\n",
              "      <td>5.000000</td>\n",
              "      <td>7.000000</td>\n",
              "    </tr>\n",
              "    <tr>\n",
              "      <th>75%</th>\n",
              "      <td>0.000000</td>\n",
              "      <td>1.000000</td>\n",
              "      <td>1.000000</td>\n",
              "      <td>1.000000</td>\n",
              "      <td>31.000000</td>\n",
              "      <td>1.000000</td>\n",
              "      <td>0.000000</td>\n",
              "      <td>0.000000</td>\n",
              "      <td>1.000000</td>\n",
              "      <td>1.000000</td>\n",
              "      <td>1.000000</td>\n",
              "      <td>0.000000</td>\n",
              "      <td>1.000000</td>\n",
              "      <td>0.000000</td>\n",
              "      <td>3.000000</td>\n",
              "      <td>2.000000</td>\n",
              "      <td>3.000000</td>\n",
              "      <td>0.000000</td>\n",
              "      <td>1.000000</td>\n",
              "      <td>10.000000</td>\n",
              "      <td>6.000000</td>\n",
              "      <td>8.000000</td>\n",
              "    </tr>\n",
              "    <tr>\n",
              "      <th>max</th>\n",
              "      <td>2.000000</td>\n",
              "      <td>1.000000</td>\n",
              "      <td>1.000000</td>\n",
              "      <td>1.000000</td>\n",
              "      <td>98.000000</td>\n",
              "      <td>1.000000</td>\n",
              "      <td>1.000000</td>\n",
              "      <td>1.000000</td>\n",
              "      <td>1.000000</td>\n",
              "      <td>1.000000</td>\n",
              "      <td>1.000000</td>\n",
              "      <td>1.000000</td>\n",
              "      <td>1.000000</td>\n",
              "      <td>1.000000</td>\n",
              "      <td>5.000000</td>\n",
              "      <td>30.000000</td>\n",
              "      <td>30.000000</td>\n",
              "      <td>1.000000</td>\n",
              "      <td>1.000000</td>\n",
              "      <td>13.000000</td>\n",
              "      <td>6.000000</td>\n",
              "      <td>8.000000</td>\n",
              "    </tr>\n",
              "  </tbody>\n",
              "</table>\n",
              "</div>\n",
              "    <div class=\"colab-df-buttons\">\n",
              "\n",
              "  <div class=\"colab-df-container\">\n",
              "    <button class=\"colab-df-convert\" onclick=\"convertToInteractive('df-3614d76e-8902-49af-a0a4-7ea69d4020c6')\"\n",
              "            title=\"Convert this dataframe to an interactive table.\"\n",
              "            style=\"display:none;\">\n",
              "\n",
              "  <svg xmlns=\"http://www.w3.org/2000/svg\" height=\"24px\" viewBox=\"0 -960 960 960\">\n",
              "    <path d=\"M120-120v-720h720v720H120Zm60-500h600v-160H180v160Zm220 220h160v-160H400v160Zm0 220h160v-160H400v160ZM180-400h160v-160H180v160Zm440 0h160v-160H620v160ZM180-180h160v-160H180v160Zm440 0h160v-160H620v160Z\"/>\n",
              "  </svg>\n",
              "    </button>\n",
              "\n",
              "  <style>\n",
              "    .colab-df-container {\n",
              "      display:flex;\n",
              "      gap: 12px;\n",
              "    }\n",
              "\n",
              "    .colab-df-convert {\n",
              "      background-color: #E8F0FE;\n",
              "      border: none;\n",
              "      border-radius: 50%;\n",
              "      cursor: pointer;\n",
              "      display: none;\n",
              "      fill: #1967D2;\n",
              "      height: 32px;\n",
              "      padding: 0 0 0 0;\n",
              "      width: 32px;\n",
              "    }\n",
              "\n",
              "    .colab-df-convert:hover {\n",
              "      background-color: #E2EBFA;\n",
              "      box-shadow: 0px 1px 2px rgba(60, 64, 67, 0.3), 0px 1px 3px 1px rgba(60, 64, 67, 0.15);\n",
              "      fill: #174EA6;\n",
              "    }\n",
              "\n",
              "    .colab-df-buttons div {\n",
              "      margin-bottom: 4px;\n",
              "    }\n",
              "\n",
              "    [theme=dark] .colab-df-convert {\n",
              "      background-color: #3B4455;\n",
              "      fill: #D2E3FC;\n",
              "    }\n",
              "\n",
              "    [theme=dark] .colab-df-convert:hover {\n",
              "      background-color: #434B5C;\n",
              "      box-shadow: 0px 1px 3px 1px rgba(0, 0, 0, 0.15);\n",
              "      filter: drop-shadow(0px 1px 2px rgba(0, 0, 0, 0.3));\n",
              "      fill: #FFFFFF;\n",
              "    }\n",
              "  </style>\n",
              "\n",
              "    <script>\n",
              "      const buttonEl =\n",
              "        document.querySelector('#df-3614d76e-8902-49af-a0a4-7ea69d4020c6 button.colab-df-convert');\n",
              "      buttonEl.style.display =\n",
              "        google.colab.kernel.accessAllowed ? 'block' : 'none';\n",
              "\n",
              "      async function convertToInteractive(key) {\n",
              "        const element = document.querySelector('#df-3614d76e-8902-49af-a0a4-7ea69d4020c6');\n",
              "        const dataTable =\n",
              "          await google.colab.kernel.invokeFunction('convertToInteractive',\n",
              "                                                    [key], {});\n",
              "        if (!dataTable) return;\n",
              "\n",
              "        const docLinkHtml = 'Like what you see? Visit the ' +\n",
              "          '<a target=\"_blank\" href=https://colab.research.google.com/notebooks/data_table.ipynb>data table notebook</a>'\n",
              "          + ' to learn more about interactive tables.';\n",
              "        element.innerHTML = '';\n",
              "        dataTable['output_type'] = 'display_data';\n",
              "        await google.colab.output.renderOutput(dataTable, element);\n",
              "        const docLink = document.createElement('div');\n",
              "        docLink.innerHTML = docLinkHtml;\n",
              "        element.appendChild(docLink);\n",
              "      }\n",
              "    </script>\n",
              "  </div>\n",
              "\n",
              "\n",
              "<div id=\"df-d9bfd462-28a8-4037-8264-a318bb1c2467\">\n",
              "  <button class=\"colab-df-quickchart\" onclick=\"quickchart('df-d9bfd462-28a8-4037-8264-a318bb1c2467')\"\n",
              "            title=\"Suggest charts\"\n",
              "            style=\"display:none;\">\n",
              "\n",
              "<svg xmlns=\"http://www.w3.org/2000/svg\" height=\"24px\"viewBox=\"0 0 24 24\"\n",
              "     width=\"24px\">\n",
              "    <g>\n",
              "        <path d=\"M19 3H5c-1.1 0-2 .9-2 2v14c0 1.1.9 2 2 2h14c1.1 0 2-.9 2-2V5c0-1.1-.9-2-2-2zM9 17H7v-7h2v7zm4 0h-2V7h2v10zm4 0h-2v-4h2v4z\"/>\n",
              "    </g>\n",
              "</svg>\n",
              "  </button>\n",
              "\n",
              "<style>\n",
              "  .colab-df-quickchart {\n",
              "      --bg-color: #E8F0FE;\n",
              "      --fill-color: #1967D2;\n",
              "      --hover-bg-color: #E2EBFA;\n",
              "      --hover-fill-color: #174EA6;\n",
              "      --disabled-fill-color: #AAA;\n",
              "      --disabled-bg-color: #DDD;\n",
              "  }\n",
              "\n",
              "  [theme=dark] .colab-df-quickchart {\n",
              "      --bg-color: #3B4455;\n",
              "      --fill-color: #D2E3FC;\n",
              "      --hover-bg-color: #434B5C;\n",
              "      --hover-fill-color: #FFFFFF;\n",
              "      --disabled-bg-color: #3B4455;\n",
              "      --disabled-fill-color: #666;\n",
              "  }\n",
              "\n",
              "  .colab-df-quickchart {\n",
              "    background-color: var(--bg-color);\n",
              "    border: none;\n",
              "    border-radius: 50%;\n",
              "    cursor: pointer;\n",
              "    display: none;\n",
              "    fill: var(--fill-color);\n",
              "    height: 32px;\n",
              "    padding: 0;\n",
              "    width: 32px;\n",
              "  }\n",
              "\n",
              "  .colab-df-quickchart:hover {\n",
              "    background-color: var(--hover-bg-color);\n",
              "    box-shadow: 0 1px 2px rgba(60, 64, 67, 0.3), 0 1px 3px 1px rgba(60, 64, 67, 0.15);\n",
              "    fill: var(--button-hover-fill-color);\n",
              "  }\n",
              "\n",
              "  .colab-df-quickchart-complete:disabled,\n",
              "  .colab-df-quickchart-complete:disabled:hover {\n",
              "    background-color: var(--disabled-bg-color);\n",
              "    fill: var(--disabled-fill-color);\n",
              "    box-shadow: none;\n",
              "  }\n",
              "\n",
              "  .colab-df-spinner {\n",
              "    border: 2px solid var(--fill-color);\n",
              "    border-color: transparent;\n",
              "    border-bottom-color: var(--fill-color);\n",
              "    animation:\n",
              "      spin 1s steps(1) infinite;\n",
              "  }\n",
              "\n",
              "  @keyframes spin {\n",
              "    0% {\n",
              "      border-color: transparent;\n",
              "      border-bottom-color: var(--fill-color);\n",
              "      border-left-color: var(--fill-color);\n",
              "    }\n",
              "    20% {\n",
              "      border-color: transparent;\n",
              "      border-left-color: var(--fill-color);\n",
              "      border-top-color: var(--fill-color);\n",
              "    }\n",
              "    30% {\n",
              "      border-color: transparent;\n",
              "      border-left-color: var(--fill-color);\n",
              "      border-top-color: var(--fill-color);\n",
              "      border-right-color: var(--fill-color);\n",
              "    }\n",
              "    40% {\n",
              "      border-color: transparent;\n",
              "      border-right-color: var(--fill-color);\n",
              "      border-top-color: var(--fill-color);\n",
              "    }\n",
              "    60% {\n",
              "      border-color: transparent;\n",
              "      border-right-color: var(--fill-color);\n",
              "    }\n",
              "    80% {\n",
              "      border-color: transparent;\n",
              "      border-right-color: var(--fill-color);\n",
              "      border-bottom-color: var(--fill-color);\n",
              "    }\n",
              "    90% {\n",
              "      border-color: transparent;\n",
              "      border-bottom-color: var(--fill-color);\n",
              "    }\n",
              "  }\n",
              "</style>\n",
              "\n",
              "  <script>\n",
              "    async function quickchart(key) {\n",
              "      const quickchartButtonEl =\n",
              "        document.querySelector('#' + key + ' button');\n",
              "      quickchartButtonEl.disabled = true;  // To prevent multiple clicks.\n",
              "      quickchartButtonEl.classList.add('colab-df-spinner');\n",
              "      try {\n",
              "        const charts = await google.colab.kernel.invokeFunction(\n",
              "            'suggestCharts', [key], {});\n",
              "      } catch (error) {\n",
              "        console.error('Error during call to suggestCharts:', error);\n",
              "      }\n",
              "      quickchartButtonEl.classList.remove('colab-df-spinner');\n",
              "      quickchartButtonEl.classList.add('colab-df-quickchart-complete');\n",
              "    }\n",
              "    (() => {\n",
              "      let quickchartButtonEl =\n",
              "        document.querySelector('#df-d9bfd462-28a8-4037-8264-a318bb1c2467 button');\n",
              "      quickchartButtonEl.style.display =\n",
              "        google.colab.kernel.accessAllowed ? 'block' : 'none';\n",
              "    })();\n",
              "  </script>\n",
              "</div>\n",
              "\n",
              "    </div>\n",
              "  </div>\n"
            ],
            "application/vnd.google.colaboratory.intrinsic+json": {
              "type": "dataframe"
            }
          },
          "metadata": {},
          "execution_count": 1853
        }
      ]
    },
    {
      "cell_type": "markdown",
      "source": [
        "### **Checking for Missing values in the dataset**"
      ],
      "metadata": {
        "id": "P5npsfBuHaaM"
      }
    },
    {
      "cell_type": "code",
      "source": [
        "df.isnull().sum()\n",
        "# Check for any null or missing values in the dataset"
      ],
      "metadata": {
        "colab": {
          "base_uri": "https://localhost:8080/"
        },
        "id": "4D8z73DgDXLs",
        "outputId": "5e352368-7ebb-404d-b4c3-a01d6e8144df"
      },
      "execution_count": 1854,
      "outputs": [
        {
          "output_type": "execute_result",
          "data": {
            "text/plain": [
              "Diabetes_012            0\n",
              "HighBP                  0\n",
              "HighChol                0\n",
              "CholCheck               0\n",
              "BMI                     0\n",
              "Smoker                  0\n",
              "Stroke                  0\n",
              "HeartDiseaseorAttack    0\n",
              "PhysActivity            0\n",
              "Fruits                  0\n",
              "Veggies                 0\n",
              "HvyAlcoholConsump       0\n",
              "AnyHealthcare           0\n",
              "NoDocbcCost             0\n",
              "GenHlth                 0\n",
              "MentHlth                0\n",
              "PhysHlth                0\n",
              "DiffWalk                0\n",
              "Sex                     0\n",
              "Age                     0\n",
              "Education               0\n",
              "Income                  0\n",
              "dtype: int64"
            ]
          },
          "metadata": {},
          "execution_count": 1854
        }
      ]
    },
    {
      "cell_type": "code",
      "source": [
        "#df.fillna(df.mean(), inplace=True)"
      ],
      "metadata": {
        "id": "WsITIj1JDaPl"
      },
      "execution_count": 1855,
      "outputs": []
    },
    {
      "cell_type": "markdown",
      "source": [
        "Inference: There are no missing values/NULL values in the dataset"
      ],
      "metadata": {
        "id": "4bavkxDkDdUz"
      }
    },
    {
      "cell_type": "markdown",
      "source": [
        "### **Finding out correlation between the features**\n"
      ],
      "metadata": {
        "id": "NsXTXbfNHrdR"
      }
    },
    {
      "cell_type": "code",
      "source": [
        "# Count the number of diabetic and non-diabetic patients in the dataset\n",
        "df['Diabetes_012'].value_counts()"
      ],
      "metadata": {
        "colab": {
          "base_uri": "https://localhost:8080/"
        },
        "id": "pcWG6vQNDez5",
        "outputId": "f52983af-a7f0-462e-ba49-9ca301e72ecc"
      },
      "execution_count": 1856,
      "outputs": [
        {
          "output_type": "execute_result",
          "data": {
            "text/plain": [
              "Diabetes_012\n",
              "0.0    213703\n",
              "2.0     35346\n",
              "1.0      4631\n",
              "Name: count, dtype: int64"
            ]
          },
          "metadata": {},
          "execution_count": 1856
        }
      ]
    },
    {
      "cell_type": "code",
      "source": [
        "# Calculate the correlation of each feature with the target column\n",
        "correlations = df.corr()['Diabetes_012'].sort_values(ascending=False)\n",
        "correlations"
      ],
      "metadata": {
        "colab": {
          "base_uri": "https://localhost:8080/"
        },
        "id": "73nBEVCVDiSh",
        "outputId": "47d454f5-4e78-4a35-8b07-11034a171276"
      },
      "execution_count": 1857,
      "outputs": [
        {
          "output_type": "execute_result",
          "data": {
            "text/plain": [
              "Diabetes_012            1.000000\n",
              "GenHlth                 0.302587\n",
              "HighBP                  0.271596\n",
              "BMI                     0.224379\n",
              "DiffWalk                0.224239\n",
              "HighChol                0.209085\n",
              "Age                     0.185026\n",
              "HeartDiseaseorAttack    0.180272\n",
              "PhysHlth                0.176287\n",
              "Stroke                  0.107179\n",
              "MentHlth                0.073507\n",
              "CholCheck               0.067546\n",
              "Smoker                  0.062914\n",
              "NoDocbcCost             0.035436\n",
              "Sex                     0.031040\n",
              "AnyHealthcare           0.015410\n",
              "Fruits                 -0.042192\n",
              "HvyAlcoholConsump      -0.057882\n",
              "Veggies                -0.058972\n",
              "PhysActivity           -0.121947\n",
              "Education              -0.130517\n",
              "Income                 -0.171483\n",
              "Name: Diabetes_012, dtype: float64"
            ]
          },
          "metadata": {},
          "execution_count": 1857
        }
      ]
    },
    {
      "cell_type": "markdown",
      "source": [
        "These variables show stronger correlations with the target variable Diabetes_012:\n",
        "\n",
        "- GenHlth\n",
        "- HighBP\n",
        "- DiffWalk\n",
        "- BMI\n",
        "- HighChol\n",
        "- Age\n",
        "- HeartDiseaseorAttack\n",
        "- PhysHlth\n",
        "- Physactivity\n",
        "- Education\n",
        "- Income\n",
        "\n",
        "These variables exhibit very weak correlations:\n",
        "\n",
        "- AnyHealthcare\n",
        "- NoDocbcCost\n",
        "- Fruits\n",
        "- Sex\n",
        "- Smoker\n",
        "- Veggies."
      ],
      "metadata": {
        "id": "1lXhg-0WDn-R"
      }
    },
    {
      "cell_type": "markdown",
      "source": [
        "### **Checking for duplicate values in the dataset**"
      ],
      "metadata": {
        "id": "OKE0EfkdH9F3"
      }
    },
    {
      "cell_type": "code",
      "source": [
        "# Check for duplicate rows\n",
        "duplicate_rows = df[df.duplicated()]\n",
        "\n",
        "# Count number of duplicate rows\n",
        "num_duplicate_rows = df.duplicated().sum()\n",
        "print(f\"Number of duplicate rows: {num_duplicate_rows}\")"
      ],
      "metadata": {
        "colab": {
          "base_uri": "https://localhost:8080/"
        },
        "id": "ZGnL6KxnDrJf",
        "outputId": "1a792db4-5f3f-45af-f205-8456b4f1fccf"
      },
      "execution_count": 1858,
      "outputs": [
        {
          "output_type": "stream",
          "name": "stdout",
          "text": [
            "Number of duplicate rows: 23899\n"
          ]
        }
      ]
    },
    {
      "cell_type": "markdown",
      "source": [
        "# **Feature Engineering and Data Pre-Processing**"
      ],
      "metadata": {
        "id": "tEwSjsTRGfEj"
      }
    },
    {
      "cell_type": "code",
      "source": [
        "df= df.astype(int)\n",
        "# Converting all the float datatypes to int datatypes"
      ],
      "metadata": {
        "id": "eurqKAN_D0gS"
      },
      "execution_count": 1859,
      "outputs": []
    },
    {
      "cell_type": "code",
      "source": [
        "# Renaming the columns to improve clarity and understanding.\n",
        "df.rename(columns={\n",
        "    'Diabetes_012': 'Diabetes_Status',\n",
        "    'HighBP': 'High_Blood_Pressure',\n",
        "    'HighChol': 'High_Cholesterol',\n",
        "    'CholCheck': 'Cholesterol_Check',\n",
        "    'BMI': 'Body_Mass_Index',\n",
        "    'Smoker': 'Smoker',\n",
        "    'Stroke': 'Stroke',\n",
        "    'HeartDiseaseorAttack': 'Heart_Disease_or_Attack',\n",
        "    'PhysActivity': 'Physical_Activity',\n",
        "    'Fruits': 'Fruits_Consumption',\n",
        "    'Veggies': 'Vegetables_Consumption',\n",
        "    'HvyAlcoholConsump': 'Heavy_Alcohol_Consumption',\n",
        "    'AnyHealthcare': 'Any_Healthcare',\n",
        "    'NoDocbcCost': 'No_Doctor_due_to_Cost',\n",
        "    'GenHlth': 'General_Health',\n",
        "    'MentHlth': 'Mental_Health',\n",
        "    'PhysHlth': 'Physical_Health',\n",
        "    'DiffWalk': 'Difficulty_Walking',\n",
        "    'Sex': 'Sex',\n",
        "    'Age': 'Age',\n",
        "    'Education': 'Education',\n",
        "    'Income': 'Income'\n",
        "}, inplace=True)\n",
        "\n",
        "df.head()"
      ],
      "metadata": {
        "colab": {
          "base_uri": "https://localhost:8080/",
          "height": 226
        },
        "id": "21T5OisKD2yA",
        "outputId": "f1cb517f-b5a3-4a42-cfd7-dcb0a4a796fe"
      },
      "execution_count": 1860,
      "outputs": [
        {
          "output_type": "execute_result",
          "data": {
            "text/plain": [
              "   Diabetes_Status  High_Blood_Pressure  High_Cholesterol  Cholesterol_Check  \\\n",
              "0                0                    1                 1                  1   \n",
              "1                0                    0                 0                  0   \n",
              "2                0                    1                 1                  1   \n",
              "3                0                    1                 0                  1   \n",
              "4                0                    1                 1                  1   \n",
              "\n",
              "   Body_Mass_Index  Smoker  Stroke  Heart_Disease_or_Attack  \\\n",
              "0               40       1       0                        0   \n",
              "1               25       1       0                        0   \n",
              "2               28       0       0                        0   \n",
              "3               27       0       0                        0   \n",
              "4               24       0       0                        0   \n",
              "\n",
              "   Physical_Activity  Fruits_Consumption  Vegetables_Consumption  \\\n",
              "0                  0                   0                       1   \n",
              "1                  1                   0                       0   \n",
              "2                  0                   1                       0   \n",
              "3                  1                   1                       1   \n",
              "4                  1                   1                       1   \n",
              "\n",
              "   Heavy_Alcohol_Consumption  Any_Healthcare  No_Doctor_due_to_Cost  \\\n",
              "0                          0               1                      0   \n",
              "1                          0               0                      1   \n",
              "2                          0               1                      1   \n",
              "3                          0               1                      0   \n",
              "4                          0               1                      0   \n",
              "\n",
              "   General_Health  Mental_Health  Physical_Health  Difficulty_Walking  Sex  \\\n",
              "0               5             18               15                   1    0   \n",
              "1               3              0                0                   0    0   \n",
              "2               5             30               30                   1    0   \n",
              "3               2              0                0                   0    0   \n",
              "4               2              3                0                   0    0   \n",
              "\n",
              "   Age  Education  Income  \n",
              "0    9          4       3  \n",
              "1    7          6       1  \n",
              "2    9          4       8  \n",
              "3   11          3       6  \n",
              "4   11          5       4  "
            ],
            "text/html": [
              "\n",
              "  <div id=\"df-73bd342a-ddd4-4e0a-b1b8-9b4a82ee5b6f\" class=\"colab-df-container\">\n",
              "    <div>\n",
              "<style scoped>\n",
              "    .dataframe tbody tr th:only-of-type {\n",
              "        vertical-align: middle;\n",
              "    }\n",
              "\n",
              "    .dataframe tbody tr th {\n",
              "        vertical-align: top;\n",
              "    }\n",
              "\n",
              "    .dataframe thead th {\n",
              "        text-align: right;\n",
              "    }\n",
              "</style>\n",
              "<table border=\"1\" class=\"dataframe\">\n",
              "  <thead>\n",
              "    <tr style=\"text-align: right;\">\n",
              "      <th></th>\n",
              "      <th>Diabetes_Status</th>\n",
              "      <th>High_Blood_Pressure</th>\n",
              "      <th>High_Cholesterol</th>\n",
              "      <th>Cholesterol_Check</th>\n",
              "      <th>Body_Mass_Index</th>\n",
              "      <th>Smoker</th>\n",
              "      <th>Stroke</th>\n",
              "      <th>Heart_Disease_or_Attack</th>\n",
              "      <th>Physical_Activity</th>\n",
              "      <th>Fruits_Consumption</th>\n",
              "      <th>Vegetables_Consumption</th>\n",
              "      <th>Heavy_Alcohol_Consumption</th>\n",
              "      <th>Any_Healthcare</th>\n",
              "      <th>No_Doctor_due_to_Cost</th>\n",
              "      <th>General_Health</th>\n",
              "      <th>Mental_Health</th>\n",
              "      <th>Physical_Health</th>\n",
              "      <th>Difficulty_Walking</th>\n",
              "      <th>Sex</th>\n",
              "      <th>Age</th>\n",
              "      <th>Education</th>\n",
              "      <th>Income</th>\n",
              "    </tr>\n",
              "  </thead>\n",
              "  <tbody>\n",
              "    <tr>\n",
              "      <th>0</th>\n",
              "      <td>0</td>\n",
              "      <td>1</td>\n",
              "      <td>1</td>\n",
              "      <td>1</td>\n",
              "      <td>40</td>\n",
              "      <td>1</td>\n",
              "      <td>0</td>\n",
              "      <td>0</td>\n",
              "      <td>0</td>\n",
              "      <td>0</td>\n",
              "      <td>1</td>\n",
              "      <td>0</td>\n",
              "      <td>1</td>\n",
              "      <td>0</td>\n",
              "      <td>5</td>\n",
              "      <td>18</td>\n",
              "      <td>15</td>\n",
              "      <td>1</td>\n",
              "      <td>0</td>\n",
              "      <td>9</td>\n",
              "      <td>4</td>\n",
              "      <td>3</td>\n",
              "    </tr>\n",
              "    <tr>\n",
              "      <th>1</th>\n",
              "      <td>0</td>\n",
              "      <td>0</td>\n",
              "      <td>0</td>\n",
              "      <td>0</td>\n",
              "      <td>25</td>\n",
              "      <td>1</td>\n",
              "      <td>0</td>\n",
              "      <td>0</td>\n",
              "      <td>1</td>\n",
              "      <td>0</td>\n",
              "      <td>0</td>\n",
              "      <td>0</td>\n",
              "      <td>0</td>\n",
              "      <td>1</td>\n",
              "      <td>3</td>\n",
              "      <td>0</td>\n",
              "      <td>0</td>\n",
              "      <td>0</td>\n",
              "      <td>0</td>\n",
              "      <td>7</td>\n",
              "      <td>6</td>\n",
              "      <td>1</td>\n",
              "    </tr>\n",
              "    <tr>\n",
              "      <th>2</th>\n",
              "      <td>0</td>\n",
              "      <td>1</td>\n",
              "      <td>1</td>\n",
              "      <td>1</td>\n",
              "      <td>28</td>\n",
              "      <td>0</td>\n",
              "      <td>0</td>\n",
              "      <td>0</td>\n",
              "      <td>0</td>\n",
              "      <td>1</td>\n",
              "      <td>0</td>\n",
              "      <td>0</td>\n",
              "      <td>1</td>\n",
              "      <td>1</td>\n",
              "      <td>5</td>\n",
              "      <td>30</td>\n",
              "      <td>30</td>\n",
              "      <td>1</td>\n",
              "      <td>0</td>\n",
              "      <td>9</td>\n",
              "      <td>4</td>\n",
              "      <td>8</td>\n",
              "    </tr>\n",
              "    <tr>\n",
              "      <th>3</th>\n",
              "      <td>0</td>\n",
              "      <td>1</td>\n",
              "      <td>0</td>\n",
              "      <td>1</td>\n",
              "      <td>27</td>\n",
              "      <td>0</td>\n",
              "      <td>0</td>\n",
              "      <td>0</td>\n",
              "      <td>1</td>\n",
              "      <td>1</td>\n",
              "      <td>1</td>\n",
              "      <td>0</td>\n",
              "      <td>1</td>\n",
              "      <td>0</td>\n",
              "      <td>2</td>\n",
              "      <td>0</td>\n",
              "      <td>0</td>\n",
              "      <td>0</td>\n",
              "      <td>0</td>\n",
              "      <td>11</td>\n",
              "      <td>3</td>\n",
              "      <td>6</td>\n",
              "    </tr>\n",
              "    <tr>\n",
              "      <th>4</th>\n",
              "      <td>0</td>\n",
              "      <td>1</td>\n",
              "      <td>1</td>\n",
              "      <td>1</td>\n",
              "      <td>24</td>\n",
              "      <td>0</td>\n",
              "      <td>0</td>\n",
              "      <td>0</td>\n",
              "      <td>1</td>\n",
              "      <td>1</td>\n",
              "      <td>1</td>\n",
              "      <td>0</td>\n",
              "      <td>1</td>\n",
              "      <td>0</td>\n",
              "      <td>2</td>\n",
              "      <td>3</td>\n",
              "      <td>0</td>\n",
              "      <td>0</td>\n",
              "      <td>0</td>\n",
              "      <td>11</td>\n",
              "      <td>5</td>\n",
              "      <td>4</td>\n",
              "    </tr>\n",
              "  </tbody>\n",
              "</table>\n",
              "</div>\n",
              "    <div class=\"colab-df-buttons\">\n",
              "\n",
              "  <div class=\"colab-df-container\">\n",
              "    <button class=\"colab-df-convert\" onclick=\"convertToInteractive('df-73bd342a-ddd4-4e0a-b1b8-9b4a82ee5b6f')\"\n",
              "            title=\"Convert this dataframe to an interactive table.\"\n",
              "            style=\"display:none;\">\n",
              "\n",
              "  <svg xmlns=\"http://www.w3.org/2000/svg\" height=\"24px\" viewBox=\"0 -960 960 960\">\n",
              "    <path d=\"M120-120v-720h720v720H120Zm60-500h600v-160H180v160Zm220 220h160v-160H400v160Zm0 220h160v-160H400v160ZM180-400h160v-160H180v160Zm440 0h160v-160H620v160ZM180-180h160v-160H180v160Zm440 0h160v-160H620v160Z\"/>\n",
              "  </svg>\n",
              "    </button>\n",
              "\n",
              "  <style>\n",
              "    .colab-df-container {\n",
              "      display:flex;\n",
              "      gap: 12px;\n",
              "    }\n",
              "\n",
              "    .colab-df-convert {\n",
              "      background-color: #E8F0FE;\n",
              "      border: none;\n",
              "      border-radius: 50%;\n",
              "      cursor: pointer;\n",
              "      display: none;\n",
              "      fill: #1967D2;\n",
              "      height: 32px;\n",
              "      padding: 0 0 0 0;\n",
              "      width: 32px;\n",
              "    }\n",
              "\n",
              "    .colab-df-convert:hover {\n",
              "      background-color: #E2EBFA;\n",
              "      box-shadow: 0px 1px 2px rgba(60, 64, 67, 0.3), 0px 1px 3px 1px rgba(60, 64, 67, 0.15);\n",
              "      fill: #174EA6;\n",
              "    }\n",
              "\n",
              "    .colab-df-buttons div {\n",
              "      margin-bottom: 4px;\n",
              "    }\n",
              "\n",
              "    [theme=dark] .colab-df-convert {\n",
              "      background-color: #3B4455;\n",
              "      fill: #D2E3FC;\n",
              "    }\n",
              "\n",
              "    [theme=dark] .colab-df-convert:hover {\n",
              "      background-color: #434B5C;\n",
              "      box-shadow: 0px 1px 3px 1px rgba(0, 0, 0, 0.15);\n",
              "      filter: drop-shadow(0px 1px 2px rgba(0, 0, 0, 0.3));\n",
              "      fill: #FFFFFF;\n",
              "    }\n",
              "  </style>\n",
              "\n",
              "    <script>\n",
              "      const buttonEl =\n",
              "        document.querySelector('#df-73bd342a-ddd4-4e0a-b1b8-9b4a82ee5b6f button.colab-df-convert');\n",
              "      buttonEl.style.display =\n",
              "        google.colab.kernel.accessAllowed ? 'block' : 'none';\n",
              "\n",
              "      async function convertToInteractive(key) {\n",
              "        const element = document.querySelector('#df-73bd342a-ddd4-4e0a-b1b8-9b4a82ee5b6f');\n",
              "        const dataTable =\n",
              "          await google.colab.kernel.invokeFunction('convertToInteractive',\n",
              "                                                    [key], {});\n",
              "        if (!dataTable) return;\n",
              "\n",
              "        const docLinkHtml = 'Like what you see? Visit the ' +\n",
              "          '<a target=\"_blank\" href=https://colab.research.google.com/notebooks/data_table.ipynb>data table notebook</a>'\n",
              "          + ' to learn more about interactive tables.';\n",
              "        element.innerHTML = '';\n",
              "        dataTable['output_type'] = 'display_data';\n",
              "        await google.colab.output.renderOutput(dataTable, element);\n",
              "        const docLink = document.createElement('div');\n",
              "        docLink.innerHTML = docLinkHtml;\n",
              "        element.appendChild(docLink);\n",
              "      }\n",
              "    </script>\n",
              "  </div>\n",
              "\n",
              "\n",
              "<div id=\"df-e19cedaf-5d81-450b-8830-927a826bf917\">\n",
              "  <button class=\"colab-df-quickchart\" onclick=\"quickchart('df-e19cedaf-5d81-450b-8830-927a826bf917')\"\n",
              "            title=\"Suggest charts\"\n",
              "            style=\"display:none;\">\n",
              "\n",
              "<svg xmlns=\"http://www.w3.org/2000/svg\" height=\"24px\"viewBox=\"0 0 24 24\"\n",
              "     width=\"24px\">\n",
              "    <g>\n",
              "        <path d=\"M19 3H5c-1.1 0-2 .9-2 2v14c0 1.1.9 2 2 2h14c1.1 0 2-.9 2-2V5c0-1.1-.9-2-2-2zM9 17H7v-7h2v7zm4 0h-2V7h2v10zm4 0h-2v-4h2v4z\"/>\n",
              "    </g>\n",
              "</svg>\n",
              "  </button>\n",
              "\n",
              "<style>\n",
              "  .colab-df-quickchart {\n",
              "      --bg-color: #E8F0FE;\n",
              "      --fill-color: #1967D2;\n",
              "      --hover-bg-color: #E2EBFA;\n",
              "      --hover-fill-color: #174EA6;\n",
              "      --disabled-fill-color: #AAA;\n",
              "      --disabled-bg-color: #DDD;\n",
              "  }\n",
              "\n",
              "  [theme=dark] .colab-df-quickchart {\n",
              "      --bg-color: #3B4455;\n",
              "      --fill-color: #D2E3FC;\n",
              "      --hover-bg-color: #434B5C;\n",
              "      --hover-fill-color: #FFFFFF;\n",
              "      --disabled-bg-color: #3B4455;\n",
              "      --disabled-fill-color: #666;\n",
              "  }\n",
              "\n",
              "  .colab-df-quickchart {\n",
              "    background-color: var(--bg-color);\n",
              "    border: none;\n",
              "    border-radius: 50%;\n",
              "    cursor: pointer;\n",
              "    display: none;\n",
              "    fill: var(--fill-color);\n",
              "    height: 32px;\n",
              "    padding: 0;\n",
              "    width: 32px;\n",
              "  }\n",
              "\n",
              "  .colab-df-quickchart:hover {\n",
              "    background-color: var(--hover-bg-color);\n",
              "    box-shadow: 0 1px 2px rgba(60, 64, 67, 0.3), 0 1px 3px 1px rgba(60, 64, 67, 0.15);\n",
              "    fill: var(--button-hover-fill-color);\n",
              "  }\n",
              "\n",
              "  .colab-df-quickchart-complete:disabled,\n",
              "  .colab-df-quickchart-complete:disabled:hover {\n",
              "    background-color: var(--disabled-bg-color);\n",
              "    fill: var(--disabled-fill-color);\n",
              "    box-shadow: none;\n",
              "  }\n",
              "\n",
              "  .colab-df-spinner {\n",
              "    border: 2px solid var(--fill-color);\n",
              "    border-color: transparent;\n",
              "    border-bottom-color: var(--fill-color);\n",
              "    animation:\n",
              "      spin 1s steps(1) infinite;\n",
              "  }\n",
              "\n",
              "  @keyframes spin {\n",
              "    0% {\n",
              "      border-color: transparent;\n",
              "      border-bottom-color: var(--fill-color);\n",
              "      border-left-color: var(--fill-color);\n",
              "    }\n",
              "    20% {\n",
              "      border-color: transparent;\n",
              "      border-left-color: var(--fill-color);\n",
              "      border-top-color: var(--fill-color);\n",
              "    }\n",
              "    30% {\n",
              "      border-color: transparent;\n",
              "      border-left-color: var(--fill-color);\n",
              "      border-top-color: var(--fill-color);\n",
              "      border-right-color: var(--fill-color);\n",
              "    }\n",
              "    40% {\n",
              "      border-color: transparent;\n",
              "      border-right-color: var(--fill-color);\n",
              "      border-top-color: var(--fill-color);\n",
              "    }\n",
              "    60% {\n",
              "      border-color: transparent;\n",
              "      border-right-color: var(--fill-color);\n",
              "    }\n",
              "    80% {\n",
              "      border-color: transparent;\n",
              "      border-right-color: var(--fill-color);\n",
              "      border-bottom-color: var(--fill-color);\n",
              "    }\n",
              "    90% {\n",
              "      border-color: transparent;\n",
              "      border-bottom-color: var(--fill-color);\n",
              "    }\n",
              "  }\n",
              "</style>\n",
              "\n",
              "  <script>\n",
              "    async function quickchart(key) {\n",
              "      const quickchartButtonEl =\n",
              "        document.querySelector('#' + key + ' button');\n",
              "      quickchartButtonEl.disabled = true;  // To prevent multiple clicks.\n",
              "      quickchartButtonEl.classList.add('colab-df-spinner');\n",
              "      try {\n",
              "        const charts = await google.colab.kernel.invokeFunction(\n",
              "            'suggestCharts', [key], {});\n",
              "      } catch (error) {\n",
              "        console.error('Error during call to suggestCharts:', error);\n",
              "      }\n",
              "      quickchartButtonEl.classList.remove('colab-df-spinner');\n",
              "      quickchartButtonEl.classList.add('colab-df-quickchart-complete');\n",
              "    }\n",
              "    (() => {\n",
              "      let quickchartButtonEl =\n",
              "        document.querySelector('#df-e19cedaf-5d81-450b-8830-927a826bf917 button');\n",
              "      quickchartButtonEl.style.display =\n",
              "        google.colab.kernel.accessAllowed ? 'block' : 'none';\n",
              "    })();\n",
              "  </script>\n",
              "</div>\n",
              "\n",
              "    </div>\n",
              "  </div>\n"
            ],
            "application/vnd.google.colaboratory.intrinsic+json": {
              "type": "dataframe",
              "variable_name": "df"
            }
          },
          "metadata": {},
          "execution_count": 1860
        }
      ]
    },
    {
      "cell_type": "markdown",
      "source": [
        "### **Handling the Duplicate values**"
      ],
      "metadata": {
        "id": "XEGP_4vvIkc5"
      }
    },
    {
      "cell_type": "code",
      "source": [
        "# Removing duplicate rows\n",
        "df_cleaned = df.drop_duplicates()\n",
        "\n",
        "# Printing information about the cleaned DataFrame\n",
        "print(f\"Original DataFrame shape: {df.shape}\")\n",
        "print(f\"DataFrame shape after removing duplicates: {df_cleaned.shape}\")"
      ],
      "metadata": {
        "colab": {
          "base_uri": "https://localhost:8080/"
        },
        "id": "61HxR06qD6P7",
        "outputId": "94a8024b-52b6-4205-e154-03052f480238"
      },
      "execution_count": 1861,
      "outputs": [
        {
          "output_type": "stream",
          "name": "stdout",
          "text": [
            "Original DataFrame shape: (253680, 22)\n",
            "DataFrame shape after removing duplicates: (229781, 22)\n"
          ]
        }
      ]
    },
    {
      "cell_type": "markdown",
      "source": [
        "### **OUTLIER HANDLING**\n"
      ],
      "metadata": {
        "id": "cSWBrl4YGr7Q"
      }
    },
    {
      "cell_type": "code",
      "source": [
        "# To visualize outliers in a column using a boxplot.\n",
        "sns.boxplot(x=df[\"Body_Mass_Index\"])\n",
        "plt.show()"
      ],
      "metadata": {
        "colab": {
          "base_uri": "https://localhost:8080/",
          "height": 450
        },
        "id": "_naGkoFqD9om",
        "outputId": "2898ca32-99eb-4996-94a3-2d3bf265444a"
      },
      "execution_count": 1862,
      "outputs": [
        {
          "output_type": "display_data",
          "data": {
            "text/plain": [
              "<Figure size 640x480 with 1 Axes>"
            ],
            "image/png": "[encoded data removed]"
          },
          "metadata": {}
        }
      ]
    },
    {
      "cell_type": "code",
      "source": [
        "df[\"Body_Mass_Index\"].unique()\n",
        "# printing the unique values in the BMI column"
      ],
      "metadata": {
        "colab": {
          "base_uri": "https://localhost:8080/"
        },
        "id": "era3e7_WD_RC",
        "outputId": "f61af312-eaba-4244-f683-495637ea8741"
      },
      "execution_count": 1863,
      "outputs": [
        {
          "output_type": "execute_result",
          "data": {
            "text/plain": [
              "array([40, 25, 28, 27, 24, 30, 34, 26, 33, 21, 23, 22, 38, 32, 37, 31, 29,\n",
              "       20, 35, 45, 39, 19, 47, 18, 36, 43, 55, 49, 42, 17, 16, 41, 44, 50,\n",
              "       59, 48, 52, 46, 54, 57, 53, 14, 15, 51, 58, 63, 61, 56, 74, 62, 64,\n",
              "       66, 73, 85, 60, 67, 65, 70, 82, 79, 92, 68, 72, 88, 96, 13, 81, 71,\n",
              "       75, 12, 77, 69, 76, 87, 89, 84, 95, 98, 91, 86, 83, 80, 90, 78])"
            ]
          },
          "metadata": {},
          "execution_count": 1863
        }
      ]
    },
    {
      "cell_type": "code",
      "source": [
        "# To visualize outliers in a column using a boxplot.\n",
        "sns.boxplot(x=df[\"Age\"])\n",
        "plt.show()"
      ],
      "metadata": {
        "colab": {
          "base_uri": "https://localhost:8080/",
          "height": 449
        },
        "id": "cHZT2HQ_JDL1",
        "outputId": "dbd878dc-66d8-4d67-aa67-429260b4b3f7"
      },
      "execution_count": 1864,
      "outputs": [
        {
          "output_type": "display_data",
          "data": {
            "text/plain": [
              "<Figure size 640x480 with 1 Axes>"
            ],
            "image/png": "[encoded data removed]"
          },
          "metadata": {}
        }
      ]
    },
    {
      "cell_type": "code",
      "source": [
        "df[\"Age\"].unique()\n",
        "# printing the unique values in the BMI column"
      ],
      "metadata": {
        "colab": {
          "base_uri": "https://localhost:8080/"
        },
        "id": "Kk0JuR0YJH_U",
        "outputId": "fcb0b4ee-23b5-4921-ab13-5194aa21f980"
      },
      "execution_count": 1865,
      "outputs": [
        {
          "output_type": "execute_result",
          "data": {
            "text/plain": [
              "array([ 9,  7, 11, 10,  8, 13,  4,  6,  2, 12,  5,  1,  3])"
            ]
          },
          "metadata": {},
          "execution_count": 1865
        }
      ]
    },
    {
      "cell_type": "code",
      "source": [
        "#Calculate upper and lower outlier limits for a numerical column based on quartiles.\n",
        "#The lower quartile value (default is 0.25).\n",
        "#The upper quartile value (default is 0.75).\n",
        "def outlier_thresholds(dataframe, col_name, q1=0.25, q3=0.75):\n",
        "    quartile1 = dataframe[col_name].quantile(q1)\n",
        "    quartile3 = dataframe[col_name].quantile(q3)\n",
        "    interquantile_range = quartile3 - quartile1\n",
        "    up_limit = quartile3 + 1.5 * interquantile_range\n",
        "    low_limit = quartile1 - 1.5 * interquantile_range\n",
        "    return low_limit, up_limit\n"
      ],
      "metadata": {
        "id": "HWHmCQrREC6M"
      },
      "execution_count": 1866,
      "outputs": []
    },
    {
      "cell_type": "code",
      "source": [
        "low_limit, up_limit = outlier_thresholds(df, \"Body_Mass_Index\")\n",
        "print(f\"Lower limit: {low_limit}, Upper limit: {up_limit}\")\n",
        "#printing the lower limits and the upper limits\n",
        "#below the lower limit and above the upper limit all are outliers wich has to be removed"
      ],
      "metadata": {
        "colab": {
          "base_uri": "https://localhost:8080/"
        },
        "id": "yaobc5hoEHXH",
        "outputId": "220b0df4-7772-4bfa-c0f9-c4bd26031dba"
      },
      "execution_count": 1867,
      "outputs": [
        {
          "output_type": "stream",
          "name": "stdout",
          "text": [
            "Lower limit: 13.5, Upper limit: 41.5\n"
          ]
        }
      ]
    },
    {
      "cell_type": "code",
      "source": [
        "#below the lower limit and above the upper limit all are outliers wich has to be removed\n",
        "outliers = df[(df[\"Body_Mass_Index\"] < low_limit) | (df[\"Body_Mass_Index\"] > up_limit)]\n",
        "outliers.head()"
      ],
      "metadata": {
        "colab": {
          "base_uri": "https://localhost:8080/",
          "height": 226
        },
        "id": "c7rgXugFEJyH",
        "outputId": "06f7754e-d0b1-4fdd-a699-5356173aeb3d"
      },
      "execution_count": 1868,
      "outputs": [
        {
          "output_type": "execute_result",
          "data": {
            "text/plain": [
              "     Diabetes_Status  High_Blood_Pressure  High_Cholesterol  \\\n",
              "85                 2                    1                 1   \n",
              "97                 0                    1                 0   \n",
              "156                2                    1                 1   \n",
              "188                0                    1                 0   \n",
              "201                2                    1                 1   \n",
              "\n",
              "     Cholesterol_Check  Body_Mass_Index  Smoker  Stroke  \\\n",
              "85                   1               45       0       0   \n",
              "97                   1               45       0       0   \n",
              "156                  1               47       1       0   \n",
              "188                  1               43       1       0   \n",
              "201                  1               55       0       0   \n",
              "\n",
              "     Heart_Disease_or_Attack  Physical_Activity  Fruits_Consumption  \\\n",
              "85                         0                  0                   0   \n",
              "97                         0                  1                   1   \n",
              "156                        0                  0                   1   \n",
              "188                        0                  0                   0   \n",
              "201                        0                  0                   1   \n",
              "\n",
              "     Vegetables_Consumption  Heavy_Alcohol_Consumption  Any_Healthcare  \\\n",
              "85                        1                          0               1   \n",
              "97                        1                          0               1   \n",
              "156                       0                          0               1   \n",
              "188                       1                          0               1   \n",
              "201                       1                          0               1   \n",
              "\n",
              "     No_Doctor_due_to_Cost  General_Health  Mental_Health  Physical_Health  \\\n",
              "85                       0               4              2               30   \n",
              "97                       0               3              0                0   \n",
              "156                      0               3              0                0   \n",
              "188                      0               4              0                7   \n",
              "201                      0               4              0               15   \n",
              "\n",
              "     Difficulty_Walking  Sex  Age  Education  Income  \n",
              "85                    1    0    9          6       8  \n",
              "97                    0    0    9          4       6  \n",
              "156                   1    0   11          6       5  \n",
              "188                   1    0   10          5       2  \n",
              "201                   0    0   11          5       2  "
            ],
            "text/html": [
              "\n",
              "  <div id=\"df-ecc14a80-0225-4290-af5f-546577d124ae\" class=\"colab-df-container\">\n",
              "    <div>\n",
              "<style scoped>\n",
              "    .dataframe tbody tr th:only-of-type {\n",
              "        vertical-align: middle;\n",
              "    }\n",
              "\n",
              "    .dataframe tbody tr th {\n",
              "        vertical-align: top;\n",
              "    }\n",
              "\n",
              "    .dataframe thead th {\n",
              "        text-align: right;\n",
              "    }\n",
              "</style>\n",
              "<table border=\"1\" class=\"dataframe\">\n",
              "  <thead>\n",
              "    <tr style=\"text-align: right;\">\n",
              "      <th></th>\n",
              "      <th>Diabetes_Status</th>\n",
              "      <th>High_Blood_Pressure</th>\n",
              "      <th>High_Cholesterol</th>\n",
              "      <th>Cholesterol_Check</th>\n",
              "      <th>Body_Mass_Index</th>\n",
              "      <th>Smoker</th>\n",
              "      <th>Stroke</th>\n",
              "      <th>Heart_Disease_or_Attack</th>\n",
              "      <th>Physical_Activity</th>\n",
              "      <th>Fruits_Consumption</th>\n",
              "      <th>Vegetables_Consumption</th>\n",
              "      <th>Heavy_Alcohol_Consumption</th>\n",
              "      <th>Any_Healthcare</th>\n",
              "      <th>No_Doctor_due_to_Cost</th>\n",
              "      <th>General_Health</th>\n",
              "      <th>Mental_Health</th>\n",
              "      <th>Physical_Health</th>\n",
              "      <th>Difficulty_Walking</th>\n",
              "      <th>Sex</th>\n",
              "      <th>Age</th>\n",
              "      <th>Education</th>\n",
              "      <th>Income</th>\n",
              "    </tr>\n",
              "  </thead>\n",
              "  <tbody>\n",
              "    <tr>\n",
              "      <th>85</th>\n",
              "      <td>2</td>\n",
              "      <td>1</td>\n",
              "      <td>1</td>\n",
              "      <td>1</td>\n",
              "      <td>45</td>\n",
              "      <td>0</td>\n",
              "      <td>0</td>\n",
              "      <td>0</td>\n",
              "      <td>0</td>\n",
              "      <td>0</td>\n",
              "      <td>1</td>\n",
              "      <td>0</td>\n",
              "      <td>1</td>\n",
              "      <td>0</td>\n",
              "      <td>4</td>\n",
              "      <td>2</td>\n",
              "      <td>30</td>\n",
              "      <td>1</td>\n",
              "      <td>0</td>\n",
              "      <td>9</td>\n",
              "      <td>6</td>\n",
              "      <td>8</td>\n",
              "    </tr>\n",
              "    <tr>\n",
              "      <th>97</th>\n",
              "      <td>0</td>\n",
              "      <td>1</td>\n",
              "      <td>0</td>\n",
              "      <td>1</td>\n",
              "      <td>45</td>\n",
              "      <td>0</td>\n",
              "      <td>0</td>\n",
              "      <td>0</td>\n",
              "      <td>1</td>\n",
              "      <td>1</td>\n",
              "      <td>1</td>\n",
              "      <td>0</td>\n",
              "      <td>1</td>\n",
              "      <td>0</td>\n",
              "      <td>3</td>\n",
              "      <td>0</td>\n",
              "      <td>0</td>\n",
              "      <td>0</td>\n",
              "      <td>0</td>\n",
              "      <td>9</td>\n",
              "      <td>4</td>\n",
              "      <td>6</td>\n",
              "    </tr>\n",
              "    <tr>\n",
              "      <th>156</th>\n",
              "      <td>2</td>\n",
              "      <td>1</td>\n",
              "      <td>1</td>\n",
              "      <td>1</td>\n",
              "      <td>47</td>\n",
              "      <td>1</td>\n",
              "      <td>0</td>\n",
              "      <td>0</td>\n",
              "      <td>0</td>\n",
              "      <td>1</td>\n",
              "      <td>0</td>\n",
              "      <td>0</td>\n",
              "      <td>1</td>\n",
              "      <td>0</td>\n",
              "      <td>3</td>\n",
              "      <td>0</td>\n",
              "      <td>0</td>\n",
              "      <td>1</td>\n",
              "      <td>0</td>\n",
              "      <td>11</td>\n",
              "      <td>6</td>\n",
              "      <td>5</td>\n",
              "    </tr>\n",
              "    <tr>\n",
              "      <th>188</th>\n",
              "      <td>0</td>\n",
              "      <td>1</td>\n",
              "      <td>0</td>\n",
              "      <td>1</td>\n",
              "      <td>43</td>\n",
              "      <td>1</td>\n",
              "      <td>0</td>\n",
              "      <td>0</td>\n",
              "      <td>0</td>\n",
              "      <td>0</td>\n",
              "      <td>1</td>\n",
              "      <td>0</td>\n",
              "      <td>1</td>\n",
              "      <td>0</td>\n",
              "      <td>4</td>\n",
              "      <td>0</td>\n",
              "      <td>7</td>\n",
              "      <td>1</td>\n",
              "      <td>0</td>\n",
              "      <td>10</td>\n",
              "      <td>5</td>\n",
              "      <td>2</td>\n",
              "    </tr>\n",
              "    <tr>\n",
              "      <th>201</th>\n",
              "      <td>2</td>\n",
              "      <td>1</td>\n",
              "      <td>1</td>\n",
              "      <td>1</td>\n",
              "      <td>55</td>\n",
              "      <td>0</td>\n",
              "      <td>0</td>\n",
              "      <td>0</td>\n",
              "      <td>0</td>\n",
              "      <td>1</td>\n",
              "      <td>1</td>\n",
              "      <td>0</td>\n",
              "      <td>1</td>\n",
              "      <td>0</td>\n",
              "      <td>4</td>\n",
              "      <td>0</td>\n",
              "      <td>15</td>\n",
              "      <td>0</td>\n",
              "      <td>0</td>\n",
              "      <td>11</td>\n",
              "      <td>5</td>\n",
              "      <td>2</td>\n",
              "    </tr>\n",
              "  </tbody>\n",
              "</table>\n",
              "</div>\n",
              "    <div class=\"colab-df-buttons\">\n",
              "\n",
              "  <div class=\"colab-df-container\">\n",
              "    <button class=\"colab-df-convert\" onclick=\"convertToInteractive('df-ecc14a80-0225-4290-af5f-546577d124ae')\"\n",
              "            title=\"Convert this dataframe to an interactive table.\"\n",
              "            style=\"display:none;\">\n",
              "\n",
              "  <svg xmlns=\"http://www.w3.org/2000/svg\" height=\"24px\" viewBox=\"0 -960 960 960\">\n",
              "    <path d=\"M120-120v-720h720v720H120Zm60-500h600v-160H180v160Zm220 220h160v-160H400v160Zm0 220h160v-160H400v160ZM180-400h160v-160H180v160Zm440 0h160v-160H620v160ZM180-180h160v-160H180v160Zm440 0h160v-160H620v160Z\"/>\n",
              "  </svg>\n",
              "    </button>\n",
              "\n",
              "  <style>\n",
              "    .colab-df-container {\n",
              "      display:flex;\n",
              "      gap: 12px;\n",
              "    }\n",
              "\n",
              "    .colab-df-convert {\n",
              "      background-color: #E8F0FE;\n",
              "      border: none;\n",
              "      border-radius: 50%;\n",
              "      cursor: pointer;\n",
              "      display: none;\n",
              "      fill: #1967D2;\n",
              "      height: 32px;\n",
              "      padding: 0 0 0 0;\n",
              "      width: 32px;\n",
              "    }\n",
              "\n",
              "    .colab-df-convert:hover {\n",
              "      background-color: #E2EBFA;\n",
              "      box-shadow: 0px 1px 2px rgba(60, 64, 67, 0.3), 0px 1px 3px 1px rgba(60, 64, 67, 0.15);\n",
              "      fill: #174EA6;\n",
              "    }\n",
              "\n",
              "    .colab-df-buttons div {\n",
              "      margin-bottom: 4px;\n",
              "    }\n",
              "\n",
              "    [theme=dark] .colab-df-convert {\n",
              "      background-color: #3B4455;\n",
              "      fill: #D2E3FC;\n",
              "    }\n",
              "\n",
              "    [theme=dark] .colab-df-convert:hover {\n",
              "      background-color: #434B5C;\n",
              "      box-shadow: 0px 1px 3px 1px rgba(0, 0, 0, 0.15);\n",
              "      filter: drop-shadow(0px 1px 2px rgba(0, 0, 0, 0.3));\n",
              "      fill: #FFFFFF;\n",
              "    }\n",
              "  </style>\n",
              "\n",
              "    <script>\n",
              "      const buttonEl =\n",
              "        document.querySelector('#df-ecc14a80-0225-4290-af5f-546577d124ae button.colab-df-convert');\n",
              "      buttonEl.style.display =\n",
              "        google.colab.kernel.accessAllowed ? 'block' : 'none';\n",
              "\n",
              "      async function convertToInteractive(key) {\n",
              "        const element = document.querySelector('#df-ecc14a80-0225-4290-af5f-546577d124ae');\n",
              "        const dataTable =\n",
              "          await google.colab.kernel.invokeFunction('convertToInteractive',\n",
              "                                                    [key], {});\n",
              "        if (!dataTable) return;\n",
              "\n",
              "        const docLinkHtml = 'Like what you see? Visit the ' +\n",
              "          '<a target=\"_blank\" href=https://colab.research.google.com/notebooks/data_table.ipynb>data table notebook</a>'\n",
              "          + ' to learn more about interactive tables.';\n",
              "        element.innerHTML = '';\n",
              "        dataTable['output_type'] = 'display_data';\n",
              "        await google.colab.output.renderOutput(dataTable, element);\n",
              "        const docLink = document.createElement('div');\n",
              "        docLink.innerHTML = docLinkHtml;\n",
              "        element.appendChild(docLink);\n",
              "      }\n",
              "    </script>\n",
              "  </div>\n",
              "\n",
              "\n",
              "<div id=\"df-c1a790d9-9d97-40cc-ad55-92502e4dea97\">\n",
              "  <button class=\"colab-df-quickchart\" onclick=\"quickchart('df-c1a790d9-9d97-40cc-ad55-92502e4dea97')\"\n",
              "            title=\"Suggest charts\"\n",
              "            style=\"display:none;\">\n",
              "\n",
              "<svg xmlns=\"http://www.w3.org/2000/svg\" height=\"24px\"viewBox=\"0 0 24 24\"\n",
              "     width=\"24px\">\n",
              "    <g>\n",
              "        <path d=\"M19 3H5c-1.1 0-2 .9-2 2v14c0 1.1.9 2 2 2h14c1.1 0 2-.9 2-2V5c0-1.1-.9-2-2-2zM9 17H7v-7h2v7zm4 0h-2V7h2v10zm4 0h-2v-4h2v4z\"/>\n",
              "    </g>\n",
              "</svg>\n",
              "  </button>\n",
              "\n",
              "<style>\n",
              "  .colab-df-quickchart {\n",
              "      --bg-color: #E8F0FE;\n",
              "      --fill-color: #1967D2;\n",
              "      --hover-bg-color: #E2EBFA;\n",
              "      --hover-fill-color: #174EA6;\n",
              "      --disabled-fill-color: #AAA;\n",
              "      --disabled-bg-color: #DDD;\n",
              "  }\n",
              "\n",
              "  [theme=dark] .colab-df-quickchart {\n",
              "      --bg-color: #3B4455;\n",
              "      --fill-color: #D2E3FC;\n",
              "      --hover-bg-color: #434B5C;\n",
              "      --hover-fill-color: #FFFFFF;\n",
              "      --disabled-bg-color: #3B4455;\n",
              "      --disabled-fill-color: #666;\n",
              "  }\n",
              "\n",
              "  .colab-df-quickchart {\n",
              "    background-color: var(--bg-color);\n",
              "    border: none;\n",
              "    border-radius: 50%;\n",
              "    cursor: pointer;\n",
              "    display: none;\n",
              "    fill: var(--fill-color);\n",
              "    height: 32px;\n",
              "    padding: 0;\n",
              "    width: 32px;\n",
              "  }\n",
              "\n",
              "  .colab-df-quickchart:hover {\n",
              "    background-color: var(--hover-bg-color);\n",
              "    box-shadow: 0 1px 2px rgba(60, 64, 67, 0.3), 0 1px 3px 1px rgba(60, 64, 67, 0.15);\n",
              "    fill: var(--button-hover-fill-color);\n",
              "  }\n",
              "\n",
              "  .colab-df-quickchart-complete:disabled,\n",
              "  .colab-df-quickchart-complete:disabled:hover {\n",
              "    background-color: var(--disabled-bg-color);\n",
              "    fill: var(--disabled-fill-color);\n",
              "    box-shadow: none;\n",
              "  }\n",
              "\n",
              "  .colab-df-spinner {\n",
              "    border: 2px solid var(--fill-color);\n",
              "    border-color: transparent;\n",
              "    border-bottom-color: var(--fill-color);\n",
              "    animation:\n",
              "      spin 1s steps(1) infinite;\n",
              "  }\n",
              "\n",
              "  @keyframes spin {\n",
              "    0% {\n",
              "      border-color: transparent;\n",
              "      border-bottom-color: var(--fill-color);\n",
              "      border-left-color: var(--fill-color);\n",
              "    }\n",
              "    20% {\n",
              "      border-color: transparent;\n",
              "      border-left-color: var(--fill-color);\n",
              "      border-top-color: var(--fill-color);\n",
              "    }\n",
              "    30% {\n",
              "      border-color: transparent;\n",
              "      border-left-color: var(--fill-color);\n",
              "      border-top-color: var(--fill-color);\n",
              "      border-right-color: var(--fill-color);\n",
              "    }\n",
              "    40% {\n",
              "      border-color: transparent;\n",
              "      border-right-color: var(--fill-color);\n",
              "      border-top-color: var(--fill-color);\n",
              "    }\n",
              "    60% {\n",
              "      border-color: transparent;\n",
              "      border-right-color: var(--fill-color);\n",
              "    }\n",
              "    80% {\n",
              "      border-color: transparent;\n",
              "      border-right-color: var(--fill-color);\n",
              "      border-bottom-color: var(--fill-color);\n",
              "    }\n",
              "    90% {\n",
              "      border-color: transparent;\n",
              "      border-bottom-color: var(--fill-color);\n",
              "    }\n",
              "  }\n",
              "</style>\n",
              "\n",
              "  <script>\n",
              "    async function quickchart(key) {\n",
              "      const quickchartButtonEl =\n",
              "        document.querySelector('#' + key + ' button');\n",
              "      quickchartButtonEl.disabled = true;  // To prevent multiple clicks.\n",
              "      quickchartButtonEl.classList.add('colab-df-spinner');\n",
              "      try {\n",
              "        const charts = await google.colab.kernel.invokeFunction(\n",
              "            'suggestCharts', [key], {});\n",
              "      } catch (error) {\n",
              "        console.error('Error during call to suggestCharts:', error);\n",
              "      }\n",
              "      quickchartButtonEl.classList.remove('colab-df-spinner');\n",
              "      quickchartButtonEl.classList.add('colab-df-quickchart-complete');\n",
              "    }\n",
              "    (() => {\n",
              "      let quickchartButtonEl =\n",
              "        document.querySelector('#df-c1a790d9-9d97-40cc-ad55-92502e4dea97 button');\n",
              "      quickchartButtonEl.style.display =\n",
              "        google.colab.kernel.accessAllowed ? 'block' : 'none';\n",
              "    })();\n",
              "  </script>\n",
              "</div>\n",
              "\n",
              "    </div>\n",
              "  </div>\n"
            ],
            "application/vnd.google.colaboratory.intrinsic+json": {
              "type": "dataframe",
              "variable_name": "outliers"
            }
          },
          "metadata": {},
          "execution_count": 1868
        }
      ]
    },
    {
      "cell_type": "code",
      "source": [
        "outliers[\"Body_Mass_Index\"].unique()"
      ],
      "metadata": {
        "colab": {
          "base_uri": "https://localhost:8080/"
        },
        "id": "z4j0zEJAEMCW",
        "outputId": "852ff2a2-9f1d-4098-a095-90044bbff5cd"
      },
      "execution_count": 1869,
      "outputs": [
        {
          "output_type": "execute_result",
          "data": {
            "text/plain": [
              "array([45, 47, 43, 55, 49, 42, 44, 50, 59, 48, 52, 46, 54, 57, 53, 51, 58,\n",
              "       63, 61, 56, 74, 62, 64, 66, 73, 85, 60, 67, 65, 70, 82, 79, 92, 68,\n",
              "       72, 88, 96, 13, 81, 71, 75, 12, 77, 69, 76, 87, 89, 84, 95, 98, 91,\n",
              "       86, 83, 80, 90, 78])"
            ]
          },
          "metadata": {},
          "execution_count": 1869
        }
      ]
    },
    {
      "cell_type": "code",
      "source": [
        "# Remove these outliers from the DataFrame\n",
        "df_filtered = df[~((df[\"Body_Mass_Index\"] < low_limit) | (df[\"Body_Mass_Index\"] > up_limit))]\n",
        "print(df_filtered[\"Body_Mass_Index\"].unique())"
      ],
      "metadata": {
        "colab": {
          "base_uri": "https://localhost:8080/"
        },
        "id": "TH61-todENpZ",
        "outputId": "28cd412b-28fc-4163-a7b6-6028c0969e78"
      },
      "execution_count": 1870,
      "outputs": [
        {
          "output_type": "stream",
          "name": "stdout",
          "text": [
            "[40 25 28 27 24 30 34 26 33 21 23 22 38 32 37 31 29 20 35 39 19 18 36 17\n",
            " 16 41 14 15]\n"
          ]
        }
      ]
    },
    {
      "cell_type": "code",
      "source": [
        "df=df_filtered"
      ],
      "metadata": {
        "id": "f1QPsMAyESLk"
      },
      "execution_count": 1871,
      "outputs": []
    },
    {
      "cell_type": "code",
      "source": [
        "print(df[\"Body_Mass_Index\"].unique())"
      ],
      "metadata": {
        "colab": {
          "base_uri": "https://localhost:8080/"
        },
        "id": "9Mpy-q6BEVLC",
        "outputId": "297693b3-1d46-4b58-d96a-4490b73d9dda"
      },
      "execution_count": 1872,
      "outputs": [
        {
          "output_type": "stream",
          "name": "stdout",
          "text": [
            "[40 25 28 27 24 30 34 26 33 21 23 22 38 32 37 31 29 20 35 39 19 18 36 17\n",
            " 16 41 14 15]\n"
          ]
        }
      ]
    },
    {
      "cell_type": "code",
      "source": [
        "# now visualizing the boxplot to see if outliers are removed or not\n",
        "sns.boxplot(x=df[\"Body_Mass_Index\"])\n",
        "plt.show()"
      ],
      "metadata": {
        "colab": {
          "base_uri": "https://localhost:8080/",
          "height": 450
        },
        "id": "x6bQp8d_EZNU",
        "outputId": "167111c8-6668-4efc-d688-92b162651dec"
      },
      "execution_count": 1873,
      "outputs": [
        {
          "output_type": "display_data",
          "data": {
            "text/plain": [
              "<Figure size 640x480 with 1 Axes>"
            ],
            "image/png": "[encoded data removed]"
          },
          "metadata": {}
        }
      ]
    },
    {
      "cell_type": "markdown",
      "source": [
        "Inference: The outliers from the column Body Mass Index were removed"
      ],
      "metadata": {
        "id": "nJlhhHF2opvP"
      }
    },
    {
      "cell_type": "code",
      "source": [
        "low_limit, up_limit = outlier_thresholds(df, \"Age\")\n",
        "print(f\"Lower limit: {low_limit}, Upper limit: {up_limit}\")\n",
        "#printing the lower limits and the upper limits\n",
        "#below the lower limit and above the upper limit all are outliers wich has to be removed"
      ],
      "metadata": {
        "colab": {
          "base_uri": "https://localhost:8080/"
        },
        "id": "lx_O9lQZJg1O",
        "outputId": "48759d8a-3e0a-4ad0-8f20-3d7ff45b42a6"
      },
      "execution_count": 1874,
      "outputs": [
        {
          "output_type": "stream",
          "name": "stdout",
          "text": [
            "Lower limit: 0.0, Upper limit: 16.0\n"
          ]
        }
      ]
    },
    {
      "cell_type": "code",
      "source": [
        "#below the lower limit and above the upper limit all are outliers wich has to be removed\n",
        "outliers = df[(df[\"Age\"] < low_limit) | (df[\"Age\"] > up_limit)]\n",
        "outliers.head()"
      ],
      "metadata": {
        "colab": {
          "base_uri": "https://localhost:8080/",
          "height": 73
        },
        "id": "QMZIeOBwJlcD",
        "outputId": "a20e0621-d220-443b-df1d-829ea38ed072"
      },
      "execution_count": 1875,
      "outputs": [
        {
          "output_type": "execute_result",
          "data": {
            "text/plain": [
              "Empty DataFrame\n",
              "Columns: [Diabetes_Status, High_Blood_Pressure, High_Cholesterol, Cholesterol_Check, Body_Mass_Index, Smoker, Stroke, Heart_Disease_or_Attack, Physical_Activity, Fruits_Consumption, Vegetables_Consumption, Heavy_Alcohol_Consumption, Any_Healthcare, No_Doctor_due_to_Cost, General_Health, Mental_Health, Physical_Health, Difficulty_Walking, Sex, Age, Education, Income]\n",
              "Index: []"
            ],
            "text/html": [
              "\n",
              "  <div id=\"df-5a0dbdf7-0ae7-4f0b-a0b5-51e1be85157e\" class=\"colab-df-container\">\n",
              "    <div>\n",
              "<style scoped>\n",
              "    .dataframe tbody tr th:only-of-type {\n",
              "        vertical-align: middle;\n",
              "    }\n",
              "\n",
              "    .dataframe tbody tr th {\n",
              "        vertical-align: top;\n",
              "    }\n",
              "\n",
              "    .dataframe thead th {\n",
              "        text-align: right;\n",
              "    }\n",
              "</style>\n",
              "<table border=\"1\" class=\"dataframe\">\n",
              "  <thead>\n",
              "    <tr style=\"text-align: right;\">\n",
              "      <th></th>\n",
              "      <th>Diabetes_Status</th>\n",
              "      <th>High_Blood_Pressure</th>\n",
              "      <th>High_Cholesterol</th>\n",
              "      <th>Cholesterol_Check</th>\n",
              "      <th>Body_Mass_Index</th>\n",
              "      <th>Smoker</th>\n",
              "      <th>Stroke</th>\n",
              "      <th>Heart_Disease_or_Attack</th>\n",
              "      <th>Physical_Activity</th>\n",
              "      <th>Fruits_Consumption</th>\n",
              "      <th>Vegetables_Consumption</th>\n",
              "      <th>Heavy_Alcohol_Consumption</th>\n",
              "      <th>Any_Healthcare</th>\n",
              "      <th>No_Doctor_due_to_Cost</th>\n",
              "      <th>General_Health</th>\n",
              "      <th>Mental_Health</th>\n",
              "      <th>Physical_Health</th>\n",
              "      <th>Difficulty_Walking</th>\n",
              "      <th>Sex</th>\n",
              "      <th>Age</th>\n",
              "      <th>Education</th>\n",
              "      <th>Income</th>\n",
              "    </tr>\n",
              "  </thead>\n",
              "  <tbody>\n",
              "  </tbody>\n",
              "</table>\n",
              "</div>\n",
              "    <div class=\"colab-df-buttons\">\n",
              "\n",
              "  <div class=\"colab-df-container\">\n",
              "    <button class=\"colab-df-convert\" onclick=\"convertToInteractive('df-5a0dbdf7-0ae7-4f0b-a0b5-51e1be85157e')\"\n",
              "            title=\"Convert this dataframe to an interactive table.\"\n",
              "            style=\"display:none;\">\n",
              "\n",
              "  <svg xmlns=\"http://www.w3.org/2000/svg\" height=\"24px\" viewBox=\"0 -960 960 960\">\n",
              "    <path d=\"M120-120v-720h720v720H120Zm60-500h600v-160H180v160Zm220 220h160v-160H400v160Zm0 220h160v-160H400v160ZM180-400h160v-160H180v160Zm440 0h160v-160H620v160ZM180-180h160v-160H180v160Zm440 0h160v-160H620v160Z\"/>\n",
              "  </svg>\n",
              "    </button>\n",
              "\n",
              "  <style>\n",
              "    .colab-df-container {\n",
              "      display:flex;\n",
              "      gap: 12px;\n",
              "    }\n",
              "\n",
              "    .colab-df-convert {\n",
              "      background-color: #E8F0FE;\n",
              "      border: none;\n",
              "      border-radius: 50%;\n",
              "      cursor: pointer;\n",
              "      display: none;\n",
              "      fill: #1967D2;\n",
              "      height: 32px;\n",
              "      padding: 0 0 0 0;\n",
              "      width: 32px;\n",
              "    }\n",
              "\n",
              "    .colab-df-convert:hover {\n",
              "      background-color: #E2EBFA;\n",
              "      box-shadow: 0px 1px 2px rgba(60, 64, 67, 0.3), 0px 1px 3px 1px rgba(60, 64, 67, 0.15);\n",
              "      fill: #174EA6;\n",
              "    }\n",
              "\n",
              "    .colab-df-buttons div {\n",
              "      margin-bottom: 4px;\n",
              "    }\n",
              "\n",
              "    [theme=dark] .colab-df-convert {\n",
              "      background-color: #3B4455;\n",
              "      fill: #D2E3FC;\n",
              "    }\n",
              "\n",
              "    [theme=dark] .colab-df-convert:hover {\n",
              "      background-color: #434B5C;\n",
              "      box-shadow: 0px 1px 3px 1px rgba(0, 0, 0, 0.15);\n",
              "      filter: drop-shadow(0px 1px 2px rgba(0, 0, 0, 0.3));\n",
              "      fill: #FFFFFF;\n",
              "    }\n",
              "  </style>\n",
              "\n",
              "    <script>\n",
              "      const buttonEl =\n",
              "        document.querySelector('#df-5a0dbdf7-0ae7-4f0b-a0b5-51e1be85157e button.colab-df-convert');\n",
              "      buttonEl.style.display =\n",
              "        google.colab.kernel.accessAllowed ? 'block' : 'none';\n",
              "\n",
              "      async function convertToInteractive(key) {\n",
              "        const element = document.querySelector('#df-5a0dbdf7-0ae7-4f0b-a0b5-51e1be85157e');\n",
              "        const dataTable =\n",
              "          await google.colab.kernel.invokeFunction('convertToInteractive',\n",
              "                                                    [key], {});\n",
              "        if (!dataTable) return;\n",
              "\n",
              "        const docLinkHtml = 'Like what you see? Visit the ' +\n",
              "          '<a target=\"_blank\" href=https://colab.research.google.com/notebooks/data_table.ipynb>data table notebook</a>'\n",
              "          + ' to learn more about interactive tables.';\n",
              "        element.innerHTML = '';\n",
              "        dataTable['output_type'] = 'display_data';\n",
              "        await google.colab.output.renderOutput(dataTable, element);\n",
              "        const docLink = document.createElement('div');\n",
              "        docLink.innerHTML = docLinkHtml;\n",
              "        element.appendChild(docLink);\n",
              "      }\n",
              "    </script>\n",
              "  </div>\n",
              "\n",
              "\n",
              "    </div>\n",
              "  </div>\n"
            ],
            "application/vnd.google.colaboratory.intrinsic+json": {
              "type": "dataframe",
              "variable_name": "outliers"
            }
          },
          "metadata": {},
          "execution_count": 1875
        }
      ]
    },
    {
      "cell_type": "markdown",
      "source": [
        "Inference: There are no outliers in the Age column"
      ],
      "metadata": {
        "id": "XCkRB0yzYft6"
      }
    },
    {
      "cell_type": "code",
      "source": [
        "# defining a funtion to check if a column has outliers or not\n",
        "def check_outlier(dataframe, col_name):\n",
        "    low_limit, up_limit = outlier_thresholds(dataframe, col_name)\n",
        "    if dataframe[(dataframe[col_name] > up_limit) | (dataframe[col_name] < low_limit)].any(axis=None):\n",
        "        return True #returns True if the column has outliers\n",
        "    else:\n",
        "        return False #returns False if the column has outliers\n",
        "\n",
        "print(check_outlier(df, \"Body_Mass_Index\"))\n",
        "print(check_outlier(df, \"Age\"))"
      ],
      "metadata": {
        "colab": {
          "base_uri": "https://localhost:8080/"
        },
        "id": "2TVn_iVKEdMD",
        "outputId": "2a0df400-942a-4c9b-b69e-99b5f60d57ec"
      },
      "execution_count": 1876,
      "outputs": [
        {
          "output_type": "stream",
          "name": "stdout",
          "text": [
            "False\n",
            "False\n"
          ]
        }
      ]
    },
    {
      "cell_type": "markdown",
      "source": [
        "### **Feature Engineering**"
      ],
      "metadata": {
        "id": "GqBHv3OyY354"
      }
    },
    {
      "cell_type": "code",
      "source": [
        "# generating new columns from the existing columns\n",
        "df['Health_Indicators_Sum'] = df[['General_Health', 'Mental_Health', 'Physical_Health']].sum(axis=1)"
      ],
      "metadata": {
        "id": "IqEGT890EiK5"
      },
      "execution_count": 1877,
      "outputs": []
    },
    {
      "cell_type": "code",
      "source": [
        "df['PhysActivity_Fruits_Interaction'] = df['Physical_Activity'] * df['Fruits_Consumption']"
      ],
      "metadata": {
        "id": "GNpBRL8pEkIV"
      },
      "execution_count": 1878,
      "outputs": []
    },
    {
      "cell_type": "code",
      "source": [
        "df['Healthcare_Access'] = df['Any_Healthcare'] + df['No_Doctor_due_to_Cost']"
      ],
      "metadata": {
        "id": "XzkUK0xJEnab"
      },
      "execution_count": 1879,
      "outputs": []
    },
    {
      "cell_type": "code",
      "source": [
        "# dropping these columns as that are not strongly corelated with diabetes status\n",
        "df.drop(columns=['Education','Heavy_Alcohol_Consumption','Fruits_Consumption','Vegetables_Consumption','Smoker'], inplace=True)"
      ],
      "metadata": {
        "id": "vuHGzCwMEoiz"
      },
      "execution_count": 1880,
      "outputs": []
    },
    {
      "cell_type": "code",
      "source": [
        "df['Mental_Health'].unique()"
      ],
      "metadata": {
        "colab": {
          "base_uri": "https://localhost:8080/"
        },
        "id": "EFlV-NcsEsVJ",
        "outputId": "3f8486b4-3b8d-41cc-c8dd-00f4b4fb74ba"
      },
      "execution_count": 1881,
      "outputs": [
        {
          "output_type": "execute_result",
          "data": {
            "text/plain": [
              "array([18,  0, 30,  3,  5, 15, 10,  6, 20,  2, 25,  1,  4,  7,  8, 21, 14,\n",
              "       26, 29, 28, 11, 12, 24, 17, 13, 27, 16, 19, 22,  9, 23])"
            ]
          },
          "metadata": {},
          "execution_count": 1881
        }
      ]
    },
    {
      "cell_type": "code",
      "source": [
        "#Tring to grab categorical columns, categorical but numerical columns.\n",
        "\n",
        "def grab_col_names(dataframe, cat_th=15):\n",
        "\n",
        "    cat_cols = [col for col in df.columns if df[col].dtypes == \"O\"]\n",
        "    num_but_cat = [col for col in df.columns if df[col].nunique() < cat_th and df[col].dtypes != \"O\"]\n",
        "\n",
        "    cat_cols = cat_cols + num_but_cat\n",
        "    cat_cols = [col for col in cat_cols]\n",
        "    num_cols = [col for col in df.columns if df[col].dtypes != \"O\" and col not in num_but_cat]\n",
        "\n",
        "    print(f\"Observations: {df.shape[0]}\")\n",
        "    print(f\"Variables: {df.shape[1]}\")\n",
        "    print(f\"cat_cols: {len(cat_cols)}\")\n",
        "    print(f\"num_cols: {len(num_cols)}\")\n",
        "    print(f\"num_but_cat: {len(num_but_cat)}\")\n",
        "\n",
        "    return cat_cols, num_cols\n",
        "\n",
        "cat_cols, num_cols = grab_col_names(df)\n"
      ],
      "metadata": {
        "colab": {
          "base_uri": "https://localhost:8080/"
        },
        "id": "3oGW7WPSEvCl",
        "outputId": "d37dbca4-e11a-49fa-adbd-a85b0ebbd53c"
      },
      "execution_count": 1882,
      "outputs": [
        {
          "output_type": "stream",
          "name": "stdout",
          "text": [
            "Observations: 243833\n",
            "Variables: 20\n",
            "cat_cols: 16\n",
            "num_cols: 4\n",
            "num_but_cat: 16\n"
          ]
        }
      ]
    },
    {
      "cell_type": "code",
      "source": [
        "#check outliers in numerical columns.\n",
        "for col in num_cols:\n",
        "    print(col, check_outlier(df, col))\n"
      ],
      "metadata": {
        "colab": {
          "base_uri": "https://localhost:8080/"
        },
        "id": "t9RbSqu4Exyj",
        "outputId": "68f79fee-6709-44f0-ad44-22f8d7895c7c"
      },
      "execution_count": 1883,
      "outputs": [
        {
          "output_type": "stream",
          "name": "stdout",
          "text": [
            "Body_Mass_Index False\n",
            "Mental_Health True\n",
            "Physical_Health True\n",
            "Health_Indicators_Sum True\n"
          ]
        }
      ]
    },
    {
      "cell_type": "code",
      "source": [
        "df['Age'].unique()"
      ],
      "metadata": {
        "colab": {
          "base_uri": "https://localhost:8080/"
        },
        "id": "bOHVdM64E0VQ",
        "outputId": "c70e3af3-51d9-44eb-c62d-887bc29c6e79"
      },
      "execution_count": 1884,
      "outputs": [
        {
          "output_type": "execute_result",
          "data": {
            "text/plain": [
              "array([ 9,  7, 11, 10,  8, 13,  4,  6,  2, 12,  5,  1,  3])"
            ]
          },
          "metadata": {},
          "execution_count": 1884
        }
      ]
    },
    {
      "cell_type": "code",
      "source": [
        "num_cols"
      ],
      "metadata": {
        "colab": {
          "base_uri": "https://localhost:8080/"
        },
        "id": "VZL8yqgkE2WN",
        "outputId": "5a782c21-f028-445c-c4b5-7c0fab56fee8"
      },
      "execution_count": 1885,
      "outputs": [
        {
          "output_type": "execute_result",
          "data": {
            "text/plain": [
              "['Body_Mass_Index',\n",
              " 'Mental_Health',\n",
              " 'Physical_Health',\n",
              " 'Health_Indicators_Sum']"
            ]
          },
          "metadata": {},
          "execution_count": 1885
        }
      ]
    },
    {
      "cell_type": "code",
      "source": [
        "cat_cols"
      ],
      "metadata": {
        "colab": {
          "base_uri": "https://localhost:8080/"
        },
        "id": "RMiRcCJeE4kV",
        "outputId": "13db4b67-dda7-4793-9af0-432dae1c4640"
      },
      "execution_count": 1886,
      "outputs": [
        {
          "output_type": "execute_result",
          "data": {
            "text/plain": [
              "['Diabetes_Status',\n",
              " 'High_Blood_Pressure',\n",
              " 'High_Cholesterol',\n",
              " 'Cholesterol_Check',\n",
              " 'Stroke',\n",
              " 'Heart_Disease_or_Attack',\n",
              " 'Physical_Activity',\n",
              " 'Any_Healthcare',\n",
              " 'No_Doctor_due_to_Cost',\n",
              " 'General_Health',\n",
              " 'Difficulty_Walking',\n",
              " 'Sex',\n",
              " 'Age',\n",
              " 'Income',\n",
              " 'PhysActivity_Fruits_Interaction',\n",
              " 'Healthcare_Access']"
            ]
          },
          "metadata": {},
          "execution_count": 1886
        }
      ]
    },
    {
      "cell_type": "markdown",
      "source": [
        "### **Replacing the Outliers with the Threshold values**"
      ],
      "metadata": {
        "id": "ecE64OO1ZYcC"
      }
    },
    {
      "cell_type": "code",
      "source": [
        "#assign outliers with thresholds. The function for this is\n",
        "def replace_with_thresholds(dataframe, variable):\n",
        "    low_limit, up_limit = outlier_thresholds(dataframe, variable)\n",
        "    dataframe.loc[(dataframe[variable] < low_limit), variable] = low_limit\n",
        "    dataframe.loc[(dataframe[variable] > up_limit), variable] = up_limit"
      ],
      "metadata": {
        "id": "8jqYsYbtE7fT"
      },
      "execution_count": 1887,
      "outputs": []
    },
    {
      "cell_type": "code",
      "source": [
        "#replacing the numerical columns having outliers with the threshold values\n",
        "for col in num_cols:\n",
        "    replace_with_thresholds(df, col)"
      ],
      "metadata": {
        "id": "oU6xa4NYE-n8"
      },
      "execution_count": 1888,
      "outputs": []
    },
    {
      "cell_type": "code",
      "source": [
        "for col in num_cols:\n",
        "  print(col,check_outlier(df, col))"
      ],
      "metadata": {
        "colab": {
          "base_uri": "https://localhost:8080/"
        },
        "id": "oXlmG1ouFA8W",
        "outputId": "89adc5fe-358b-4ede-9c77-ecb19d787bd0"
      },
      "execution_count": 1889,
      "outputs": [
        {
          "output_type": "stream",
          "name": "stdout",
          "text": [
            "Body_Mass_Index False\n",
            "Mental_Health False\n",
            "Physical_Health False\n",
            "Health_Indicators_Sum False\n"
          ]
        }
      ]
    },
    {
      "cell_type": "code",
      "source": [
        "#checking the categorical columns if they have outliers\n",
        "for col in cat_cols:\n",
        "  print(col,check_outlier(df, col))"
      ],
      "metadata": {
        "colab": {
          "base_uri": "https://localhost:8080/"
        },
        "id": "ZahP9qd7FDMk",
        "outputId": "c899101a-86b3-41dc-f5f7-01899516d250"
      },
      "execution_count": 1890,
      "outputs": [
        {
          "output_type": "stream",
          "name": "stdout",
          "text": [
            "Diabetes_Status True\n",
            "High_Blood_Pressure False\n",
            "High_Cholesterol False\n",
            "Cholesterol_Check True\n",
            "Stroke True\n",
            "Heart_Disease_or_Attack True\n",
            "Physical_Activity True\n",
            "Any_Healthcare True\n",
            "No_Doctor_due_to_Cost True\n",
            "General_Health True\n",
            "Difficulty_Walking True\n",
            "Sex False\n",
            "Age False\n",
            "Income False\n",
            "PhysActivity_Fruits_Interaction False\n",
            "Healthcare_Access True\n"
          ]
        }
      ]
    },
    {
      "cell_type": "code",
      "source": [
        "#replacing the categorical columns having outliers with the threshold values\n",
        "for col in cat_cols:\n",
        "    replace_with_thresholds(df, col)"
      ],
      "metadata": {
        "id": "2FyBIPhjFF-a"
      },
      "execution_count": 1891,
      "outputs": []
    },
    {
      "cell_type": "code",
      "source": [
        "for col in cat_cols:\n",
        "  print(col,check_outlier(df, col))"
      ],
      "metadata": {
        "colab": {
          "base_uri": "https://localhost:8080/"
        },
        "id": "oVTmlaOkFIae",
        "outputId": "34468a21-d3d5-4300-cfc7-29136bf299e6"
      },
      "execution_count": 1892,
      "outputs": [
        {
          "output_type": "stream",
          "name": "stdout",
          "text": [
            "Diabetes_Status False\n",
            "High_Blood_Pressure False\n",
            "High_Cholesterol False\n",
            "Cholesterol_Check False\n",
            "Stroke False\n",
            "Heart_Disease_or_Attack False\n",
            "Physical_Activity False\n",
            "Any_Healthcare False\n",
            "No_Doctor_due_to_Cost False\n",
            "General_Health False\n",
            "Difficulty_Walking False\n",
            "Sex False\n",
            "Age False\n",
            "Income False\n",
            "PhysActivity_Fruits_Interaction False\n",
            "Healthcare_Access False\n"
          ]
        }
      ]
    },
    {
      "cell_type": "markdown",
      "source": [
        "### **Applying LogTransform**"
      ],
      "metadata": {
        "id": "-Om5U1rCuIdo"
      }
    },
    {
      "cell_type": "code",
      "source": [
        "import numpy as np\n",
        "# Identify numerical columns for log transformation\n",
        "numerical_cols = df.select_dtypes(include=[np.number]).columns\n",
        "\n",
        "# Perform log transform on numerical features\n",
        "df[numerical_cols] = np.log1p(df[numerical_cols]) #applies a logarithmic transformation to these numerical columns to handle skewness."
      ],
      "metadata": {
        "id": "pT8O77lnt5se"
      },
      "execution_count": 1893,
      "outputs": []
    },
    {
      "cell_type": "markdown",
      "source": [
        "### **Handling Categorical Columns**"
      ],
      "metadata": {
        "id": "coIRsUQguPB8"
      }
    },
    {
      "cell_type": "code",
      "source": [
        "df= df.astype(int)\n",
        "# Converting all the float datatypes to int datatypes"
      ],
      "metadata": {
        "id": "7DeU9rwmZiNr"
      },
      "execution_count": 1894,
      "outputs": []
    },
    {
      "cell_type": "code",
      "source": [
        "# Replace numeric values (0 and 1) in the 'Sex' column with labels 'Male' and 'Female'\n",
        "df['Sex'] = df['Sex'].replace({0: 'Male', 1: 'Female'})\n",
        "\n"
      ],
      "metadata": {
        "id": "mwjZDtAraPLg"
      },
      "execution_count": 1895,
      "outputs": []
    },
    {
      "cell_type": "markdown",
      "source": [
        "### **Encoding Categorical Column using OneHotEncoder**"
      ],
      "metadata": {
        "id": "_58c0pCfbkx1"
      }
    },
    {
      "cell_type": "code",
      "source": [
        "from sklearn.preprocessing import OneHotEncoder\n",
        "\n",
        "# Creating an instance of OneHotEncoder\n",
        "encoder = OneHotEncoder()\n",
        "\n",
        "# Fit and transform the 'Sex' column\n",
        "sex_encoded = encoder.fit_transform(df[['Sex']])\n",
        "\n",
        "# Convert the encoded result into a DataFrame\n",
        "sex_encoded_df = pd.DataFrame(sex_encoded.toarray(), columns=encoder.categories_[0])\n",
        "\n",
        "# Concatenate the original DataFrame with the encoded 'Sex' columns\n",
        "df_encoded = pd.concat([df, sex_encoded_df], axis=1)\n",
        "\n",
        "# Drop the original 'Sex' column\n",
        "df_encoded.drop(['Sex'], axis=1, inplace=True)\n",
        "\n",
        "# Display the first few rows of the encoded DataFrame\n",
        "df_encoded.head()\n",
        "df=df_encoded"
      ],
      "metadata": {
        "id": "RCRVeJZwaT72"
      },
      "execution_count": 1896,
      "outputs": []
    },
    {
      "cell_type": "markdown",
      "source": [
        "### **Train Test Split and applying LDA**"
      ],
      "metadata": {
        "id": "id8EDzRzm9kx"
      }
    },
    {
      "cell_type": "code",
      "source": [
        "from sklearn.model_selection import train_test_split\n",
        "from sklearn.preprocessing import StandardScaler\n",
        "from sklearn.impute import SimpleImputer\n",
        "from sklearn.discriminant_analysis import LinearDiscriminantAnalysis\n",
        "\n",
        "\n",
        "df.dropna(subset=['Diabetes_Status'], inplace=True)\n",
        "\n",
        "X = df.drop('Diabetes_Status', axis=1) #seperating the target column\n",
        "y = df['Diabetes_Status']\n",
        "\n",
        "# Perform train-test split\n",
        "X_train, X_test, y_train, y_test = train_test_split(X, y, test_size=0.2, random_state=42)\n",
        "\n",
        "# Check for missing values\n",
        "print(\"Missing values in X_train:\\n\", X_train.isnull().sum())\n",
        "print(\"Missing values in X_test:\\n\", X_test.isnull().sum())\n",
        "\n",
        "# Initialize SimpleImputer to replace NaN with mean\n",
        "imputer = SimpleImputer(strategy='mean')\n",
        "\n",
        "# Fit and transform imputer on training data\n",
        "X_train_imputed = imputer.fit_transform(X_train)\n",
        "\n",
        "# Transform test data using the fitted imputer\n",
        "X_test_imputed = imputer.transform(X_test)\n",
        "\n",
        "# Initialize StandardScaler\n",
        "scaler = StandardScaler()\n",
        "\n",
        "# Fit and transform scaler on training data\n",
        "X_train_scaled = scaler.fit_transform(X_train_imputed)\n",
        "\n",
        "# Transform test data using the fitted scaler\n",
        "X_test_scaled = scaler.transform(X_test_imputed)\n",
        "\n",
        "# Initialize LDA\n",
        "lda = LinearDiscriminantAnalysis()\n",
        "\n",
        "# Fit LDA on training data\n",
        "lda.fit(X_train_scaled, y_train)\n",
        "\n",
        "# Transform training and test data using the fitted LDA model\n",
        "X_train_lda = lda.transform(X_train_scaled)\n",
        "X_test_lda = lda.transform(X_test_scaled)\n",
        "\n",
        "# Now X_train_lda and X_test_lda contain the transformed features using LDA\n"
      ],
      "metadata": {
        "colab": {
          "base_uri": "https://localhost:8080/"
        },
        "id": "8r1XTcQ2knSx",
        "outputId": "6b898a21-1853-414c-f09f-b09ec3787cbf"
      },
      "execution_count": 1897,
      "outputs": [
        {
          "output_type": "stream",
          "name": "stdout",
          "text": [
            "Missing values in X_train:\n",
            " High_Blood_Pressure                   0\n",
            "High_Cholesterol                      0\n",
            "Cholesterol_Check                     0\n",
            "Body_Mass_Index                       0\n",
            "Stroke                                0\n",
            "Heart_Disease_or_Attack               0\n",
            "Physical_Activity                     0\n",
            "Any_Healthcare                        0\n",
            "No_Doctor_due_to_Cost                 0\n",
            "General_Health                        0\n",
            "Mental_Health                         0\n",
            "Physical_Health                       0\n",
            "Difficulty_Walking                    0\n",
            "Age                                   0\n",
            "Income                                0\n",
            "Health_Indicators_Sum                 0\n",
            "PhysActivity_Fruits_Interaction       0\n",
            "Healthcare_Access                     0\n",
            "Male                               7539\n",
            "dtype: int64\n",
            "Missing values in X_test:\n",
            " High_Blood_Pressure                   0\n",
            "High_Cholesterol                      0\n",
            "Cholesterol_Check                     0\n",
            "Body_Mass_Index                       0\n",
            "Stroke                                0\n",
            "Heart_Disease_or_Attack               0\n",
            "Physical_Activity                     0\n",
            "Any_Healthcare                        0\n",
            "No_Doctor_due_to_Cost                 0\n",
            "General_Health                        0\n",
            "Mental_Health                         0\n",
            "Physical_Health                       0\n",
            "Difficulty_Walking                    0\n",
            "Age                                   0\n",
            "Income                                0\n",
            "Health_Indicators_Sum                 0\n",
            "PhysActivity_Fruits_Interaction       0\n",
            "Healthcare_Access                     0\n",
            "Male                               1968\n",
            "dtype: int64\n"
          ]
        }
      ]
    },
    {
      "cell_type": "markdown",
      "source": [
        "### **Now that the data has been preprocessed and prepared, it is ready to be fitted to a machine learning model.**"
      ],
      "metadata": {
        "id": "5D5OyFcKeI7J"
      }
    }
  ]
}